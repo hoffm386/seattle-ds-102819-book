{
 "cells": [
  {
   "cell_type": "markdown",
   "metadata": {},
   "source": [
    "# Libraries in General and Numpy in Particular"
   ]
  },
  {
   "cell_type": "markdown",
   "metadata": {},
   "source": [
    "## 1. Importing Python Libraries\n",
    "\n",
    "Part of the reason why Python is such a powerful tool for data science is that other people have written and optimized functions and wrapped them into **libraries** that we can bring into our own work.\n",
    "\n",
    "![numpy](https://raw.githubusercontent.com/donnemartin/data-science-ipython-notebooks/master/images/numpy.png)\n",
    "\n",
    "[NumPy](https://www.numpy.org/) is the fundamental package for scientific computing with Python. \n",
    "\n",
    "\n",
    "To use a package in your current workspace type `import` followed by the name of the library as shown below."
   ]
  },
  {
   "cell_type": "code",
   "execution_count": 1,
   "metadata": {},
   "outputs": [],
   "source": [
    "import numpy"
   ]
  },
  {
   "cell_type": "markdown",
   "metadata": {},
   "source": [
    "That worked because numpy is [included with Anaconda](https://docs.anaconda.com/anaconda/packages/py3.7_osx-64/), so numpy was installed when you installed Anaconda. Other packages will need to be installed before you can use them.\n",
    "\n",
    "Let's try importing azure (which is a library for using MS Azure in Python)."
   ]
  },
  {
   "cell_type": "code",
   "execution_count": 2,
   "metadata": {},
   "outputs": [
    {
     "ename": "ModuleNotFoundError",
     "evalue": "No module named 'azure'",
     "output_type": "error",
     "traceback": [
      "\u001b[0;31m---------------------------------------------------------------------------\u001b[0m",
      "\u001b[0;31mModuleNotFoundError\u001b[0m                       Traceback (most recent call last)",
      "\u001b[0;32m<ipython-input-2-79c4d6bf30ff>\u001b[0m in \u001b[0;36m<module>\u001b[0;34m\u001b[0m\n\u001b[0;32m----> 1\u001b[0;31m \u001b[0;32mimport\u001b[0m \u001b[0mazure\u001b[0m\u001b[0;34m\u001b[0m\u001b[0;34m\u001b[0m\u001b[0m\n\u001b[0m",
      "\u001b[0;31mModuleNotFoundError\u001b[0m: No module named 'azure'"
     ]
    }
   ],
   "source": [
    "import azure"
   ]
  },
  {
   "cell_type": "markdown",
   "metadata": {},
   "source": [
    "That failed because azure is **not** included with Anaconda. In order to get this package, we'll have to install it first:"
   ]
  },
  {
   "cell_type": "code",
   "execution_count": 4,
   "metadata": {},
   "outputs": [
    {
     "name": "stdout",
     "output_type": "stream",
     "text": [
      "Collecting azure\n",
      "  Downloading azure-4.0.0-py2.py3-none-any.whl (2.2 kB)\n",
      "Collecting azure-servicemanagement-legacy~=0.20.6\n",
      "  Downloading azure_servicemanagement_legacy-0.20.6-py2.py3-none-any.whl (78 kB)\n",
      "\u001b[K     |████████████████████████████████| 78 kB 5.5 MB/s eta 0:00:01\n",
      "\u001b[?25hCollecting azure-storage-blob~=1.3\n",
      "  Downloading azure_storage_blob-1.5.0-py2.py3-none-any.whl (75 kB)\n",
      "\u001b[K     |████████████████████████████████| 75 kB 6.1 MB/s  eta 0:00:01\n",
      "\u001b[?25hCollecting azure-datalake-store~=0.0.18\n",
      "  Downloading azure_datalake_store-0.0.48-py2.py3-none-any.whl (53 kB)\n",
      "\u001b[K     |████████████████████████████████| 53 kB 2.5 MB/s eta 0:00:011\n",
      "\u001b[?25hCollecting azure-servicefabric~=6.3.0.0\n",
      "  Downloading azure_servicefabric-6.3.0.0-py2.py3-none-any.whl (1.1 MB)\n",
      "\u001b[K     |████████████████████████████████| 1.1 MB 11.1 MB/s eta 0:00:01\n",
      "\u001b[?25hCollecting azure-servicebus~=0.21.1\n",
      "  Downloading azure_servicebus-0.21.1-py2.py3-none-any.whl (36 kB)\n",
      "Collecting azure-batch~=4.1\n",
      "  Downloading azure_batch-4.1.3-py2.py3-none-any.whl (314 kB)\n",
      "\u001b[K     |████████████████████████████████| 314 kB 16.9 MB/s eta 0:00:01\n",
      "\u001b[?25hCollecting azure-applicationinsights~=0.1.0\n",
      "  Downloading azure_applicationinsights-0.1.0-py2.py3-none-any.whl (104 kB)\n",
      "\u001b[K     |████████████████████████████████| 104 kB 16.1 MB/s eta 0:00:01\n",
      "\u001b[?25hCollecting azure-cosmosdb-table~=1.0\n",
      "  Downloading azure_cosmosdb_table-1.0.6-py2.py3-none-any.whl (125 kB)\n",
      "\u001b[K     |████████████████████████████████| 125 kB 15.3 MB/s eta 0:00:01\n",
      "\u001b[?25hCollecting azure-storage-queue~=1.3\n",
      "  Downloading azure_storage_queue-1.4.0-py2.py3-none-any.whl (23 kB)\n",
      "Collecting azure-storage-file~=1.3\n",
      "  Downloading azure_storage_file-1.4.0-py2.py3-none-any.whl (30 kB)\n",
      "Collecting azure-graphrbac~=0.40.0\n",
      "  Downloading azure_graphrbac-0.40.0-py2.py3-none-any.whl (63 kB)\n",
      "\u001b[K     |████████████████████████████████| 63 kB 3.6 MB/s  eta 0:00:01\n",
      "\u001b[?25hCollecting azure-keyvault~=1.0\n",
      "  Downloading azure_keyvault-1.1.0-py2.py3-none-any.whl (352 kB)\n",
      "\u001b[K     |████████████████████████████████| 352 kB 11.5 MB/s eta 0:00:01\n",
      "\u001b[?25hCollecting azure-loganalytics~=0.1.0\n",
      "  Downloading azure_loganalytics-0.1.0-py2.py3-none-any.whl (16 kB)\n",
      "Collecting azure-eventgrid~=1.1\n",
      "  Downloading azure_eventgrid-1.3.0-py2.py3-none-any.whl (167 kB)\n",
      "\u001b[K     |████████████████████████████████| 167 kB 16.3 MB/s eta 0:00:01\n",
      "\u001b[?25hCollecting azure-mgmt~=4.0\n",
      "  Downloading azure_mgmt-4.0.0-py2.py3-none-any.whl (3.0 kB)\n",
      "Requirement already satisfied: requests in /Users/ehoffman/.conda/envs/prework-labs/lib/python3.7/site-packages (from azure-servicemanagement-legacy~=0.20.6->azure) (2.23.0)\n",
      "Collecting azure-common>=1.1.5\n",
      "  Downloading azure_common-1.1.24-py2.py3-none-any.whl (12 kB)\n",
      "Collecting azure-nspkg>=2.0.0\n",
      "  Downloading azure_nspkg-3.0.2-py3-none-any.whl (1.5 kB)\n",
      "Collecting azure-storage-common~=1.4\n",
      "  Downloading azure_storage_common-1.4.2-py2.py3-none-any.whl (47 kB)\n",
      "\u001b[K     |████████████████████████████████| 47 kB 9.7 MB/s  eta 0:00:01\n",
      "\u001b[?25hRequirement already satisfied: cffi in /Users/ehoffman/.conda/envs/prework-labs/lib/python3.7/site-packages (from azure-datalake-store~=0.0.18->azure) (1.13.2)\n",
      "Collecting adal>=0.4.2\n",
      "  Downloading adal-1.2.2-py2.py3-none-any.whl (53 kB)\n",
      "\u001b[K     |████████████████████████████████| 53 kB 1.8 MB/s  eta 0:00:01\n",
      "\u001b[?25hCollecting msrest<2.0.0,>=0.4.26\n",
      "  Downloading msrest-0.6.11-py2.py3-none-any.whl (83 kB)\n",
      "\u001b[K     |████████████████████████████████| 83 kB 2.3 MB/s  eta 0:00:01\n",
      "\u001b[?25hCollecting msrestazure<2.0.0,>=0.4.20\n",
      "  Downloading msrestazure-0.6.2-py2.py3-none-any.whl (40 kB)\n",
      "\u001b[K     |████████████████████████████████| 40 kB 5.6 MB/s  eta 0:00:01\n",
      "\u001b[?25hRequirement already satisfied: python-dateutil in /Users/ehoffman/.conda/envs/prework-labs/lib/python3.7/site-packages (from azure-cosmosdb-table~=1.0->azure) (2.8.1)\n",
      "Requirement already satisfied: cryptography in /Users/ehoffman/.conda/envs/prework-labs/lib/python3.7/site-packages (from azure-cosmosdb-table~=1.0->azure) (2.8)\n",
      "Collecting azure-cosmosdb-nspkg>=2.0.0\n",
      "  Downloading azure_cosmosdb_nspkg-2.0.2-py2.py3-none-any.whl (2.9 kB)\n",
      "Collecting azure-mgmt-hanaonazure~=0.1.1\n",
      "  Downloading azure_mgmt_hanaonazure-0.1.1-py2.py3-none-any.whl (20 kB)\n",
      "Collecting azure-mgmt-cognitiveservices~=3.0\n",
      "  Downloading azure_mgmt_cognitiveservices-3.0.0-py2.py3-none-any.whl (58 kB)\n",
      "\u001b[K     |████████████████████████████████| 58 kB 9.4 MB/s  eta 0:00:01\n",
      "\u001b[?25hCollecting azure-mgmt-cosmosdb~=0.4.1\n",
      "  Downloading azure_mgmt_cosmosdb-0.4.1-py2.py3-none-any.whl (100 kB)\n",
      "\u001b[K     |████████████████████████████████| 100 kB 7.2 MB/s eta 0:00:01\n",
      "\u001b[?25hCollecting azure-mgmt-advisor~=1.0\n",
      "  Downloading azure_mgmt_advisor-1.0.1-py2.py3-none-any.whl (27 kB)\n",
      "Collecting azure-mgmt-containerservice~=4.2\n",
      "  Downloading azure_mgmt_containerservice-4.4.0-py2.py3-none-any.whl (206 kB)\n",
      "\u001b[K     |████████████████████████████████| 206 kB 19.3 MB/s eta 0:00:01\n",
      "\u001b[?25hCollecting azure-mgmt-devtestlabs~=2.2\n",
      "  Downloading azure_mgmt_devtestlabs-2.2.0-py2.py3-none-any.whl (194 kB)\n",
      "\u001b[K     |████████████████████████████████| 194 kB 19.0 MB/s eta 0:00:01\n",
      "\u001b[?25hCollecting azure-mgmt-compute~=4.0\n",
      "  Downloading azure_mgmt_compute-4.6.2-py2.py3-none-any.whl (3.0 MB)\n",
      "\u001b[K     |████████████████████████████████| 3.0 MB 15.3 MB/s eta 0:00:01\n",
      "\u001b[?25hCollecting azure-mgmt-devspaces~=0.1.0\n",
      "  Downloading azure_mgmt_devspaces-0.1.0-py2.py3-none-any.whl (33 kB)\n",
      "Collecting azure-mgmt-eventhub~=2.1\n",
      "  Downloading azure_mgmt_eventhub-2.6.0-py2.py3-none-any.whl (189 kB)\n",
      "\u001b[K     |████████████████████████████████| 189 kB 6.6 MB/s eta 0:00:01\n",
      "\u001b[?25hCollecting azure-mgmt-managementpartner~=0.1.0\n",
      "  Downloading azure_mgmt_managementpartner-0.1.1-py2.py3-none-any.whl (19 kB)\n",
      "Collecting azure-mgmt-resource~=2.0\n",
      "  Downloading azure_mgmt_resource-2.2.0-py2.py3-none-any.whl (780 kB)\n",
      "\u001b[K     |████████████████████████████████| 780 kB 30.6 MB/s eta 0:00:01\n",
      "\u001b[?25hCollecting azure-mgmt-datamigration~=1.0\n",
      "  Downloading azure_mgmt_datamigration-1.0.0-py2.py3-none-any.whl (185 kB)\n",
      "\u001b[K     |████████████████████████████████| 185 kB 18.7 MB/s eta 0:00:01\n",
      "\u001b[?25hCollecting azure-mgmt-iothub~=0.5.0\n",
      "  Downloading azure_mgmt_iothub-0.5.0-py2.py3-none-any.whl (102 kB)\n",
      "\u001b[K     |████████████████████████████████| 102 kB 15.6 MB/s eta 0:00:01\n",
      "\u001b[?25hCollecting azure-mgmt-eventgrid~=1.0\n",
      "  Downloading azure_mgmt_eventgrid-1.0.0-py2.py3-none-any.whl (51 kB)\n",
      "\u001b[K     |████████████████████████████████| 51 kB 315 kB/s  eta 0:00:01\n",
      "\u001b[?25hCollecting azure-mgmt-maps~=0.1.0\n",
      "  Downloading azure_mgmt_maps-0.1.0-py2.py3-none-any.whl (31 kB)\n",
      "Collecting azure-mgmt-network~=2.0\n",
      "  Downloading azure_mgmt_network-2.7.0-py2.py3-none-any.whl (11.4 MB)\n",
      "\u001b[K     |████████████████████████████████| 11.4 MB 9.0 MB/s eta 0:00:01\n",
      "\u001b[?25hCollecting azure-mgmt-billing~=0.2.0\n",
      "  Downloading azure_mgmt_billing-0.2.0-py2.py3-none-any.whl (25 kB)\n",
      "Collecting azure-mgmt-storage~=2.0\n",
      "  Downloading azure_mgmt_storage-2.0.0-py2.py3-none-any.whl (558 kB)\n",
      "\u001b[K     |████████████████████████████████| 558 kB 25.5 MB/s eta 0:00:01\n",
      "\u001b[?25hCollecting azure-mgmt-media~=1.0.0rc2\n",
      "  Downloading azure_mgmt_media-1.0.0-py2.py3-none-any.whl (335 kB)\n",
      "\u001b[K     |████████████████████████████████| 335 kB 5.5 MB/s eta 0:00:01\n",
      "\u001b[?25hCollecting azure-mgmt-servicebus~=0.5.1\n",
      "  Downloading azure_mgmt_servicebus-0.5.3-py2.py3-none-any.whl (112 kB)\n",
      "\u001b[K     |████████████████████████████████| 112 kB 19.3 MB/s eta 0:00:01\n",
      "\u001b[?25hCollecting azure-mgmt-loganalytics~=0.2.0\n",
      "  Downloading azure_mgmt_loganalytics-0.2.0-py2.py3-none-any.whl (89 kB)\n",
      "\u001b[K     |████████████████████████████████| 89 kB 10.2 MB/s eta 0:00:01\n",
      "\u001b[?25hCollecting azure-mgmt-datafactory~=0.6.0\n",
      "  Downloading azure_mgmt_datafactory-0.6.0-py2.py3-none-any.whl (418 kB)\n",
      "\u001b[K     |████████████████████████████████| 418 kB 18.3 MB/s eta 0:00:01\n",
      "\u001b[?25hCollecting azure-mgmt-batch~=5.0\n",
      "  Downloading azure_mgmt_batch-5.0.1-py2.py3-none-any.whl (87 kB)\n",
      "\u001b[K     |████████████████████████████████| 87 kB 8.3 MB/s  eta 0:00:01\n",
      "\u001b[?25hCollecting azure-mgmt-recoveryservicesbackup~=0.3.0\n",
      "  Downloading azure_mgmt_recoveryservicesbackup-0.3.0-py2.py3-none-any.whl (568 kB)\n",
      "\u001b[K     |████████████████████████████████| 568 kB 5.7 MB/s eta 0:00:01\n",
      "\u001b[?25hCollecting azure-mgmt-batchai~=2.0\n",
      "  Downloading azure_mgmt_batchai-2.0.0-py2.py3-none-any.whl (174 kB)\n",
      "\u001b[K     |████████████████████████████████| 174 kB 30.1 MB/s eta 0:00:01\n",
      "\u001b[?25hCollecting azure-mgmt-datalake-store~=0.5.0\n",
      "  Downloading azure_mgmt_datalake_store-0.5.0-py2.py3-none-any.whl (88 kB)\n",
      "\u001b[K     |████████████████████████████████| 88 kB 9.4 MB/s  eta 0:00:01\n",
      "\u001b[?25hCollecting azure-mgmt-msi~=0.2.0\n",
      "  Downloading azure_mgmt_msi-0.2.0-py2.py3-none-any.whl (17 kB)\n",
      "Collecting azure-mgmt-powerbiembedded~=2.0\n",
      "  Downloading azure_mgmt_powerbiembedded-2.0.0-py2.py3-none-any.whl (38 kB)\n",
      "Collecting azure-mgmt-logic~=3.0\n",
      "  Downloading azure_mgmt_logic-3.0.0-py2.py3-none-any.whl (303 kB)\n",
      "\u001b[K     |████████████████████████████████| 303 kB 29.9 MB/s eta 0:00:01\n",
      "\u001b[?25hCollecting azure-mgmt-iothubprovisioningservices~=0.2.0\n",
      "  Downloading azure_mgmt_iothubprovisioningservices-0.2.0-py2.py3-none-any.whl (60 kB)\n",
      "\u001b[K     |████████████████████████████████| 60 kB 13.3 MB/s eta 0:00:01\n",
      "\u001b[?25hCollecting azure-mgmt-commerce~=1.0\n",
      "  Downloading azure_mgmt_commerce-1.0.1-py2.py3-none-any.whl (22 kB)\n",
      "Collecting azure-mgmt-marketplaceordering~=0.1.0\n",
      "  Downloading azure_mgmt_marketplaceordering-0.1.0-py2.py3-none-any.whl (16 kB)\n",
      "Collecting azure-mgmt-reservations~=0.2.1\n",
      "  Downloading azure_mgmt_reservations-0.2.1-py2.py3-none-any.whl (50 kB)\n",
      "\u001b[K     |████████████████████████████████| 50 kB 10.5 MB/s eta 0:00:01\n",
      "\u001b[?25hCollecting azure-mgmt-signalr~=0.1.0\n",
      "  Downloading azure_mgmt_signalr-0.1.1-py2.py3-none-any.whl (49 kB)\n",
      "\u001b[K     |████████████████████████████████| 49 kB 9.6 MB/s  eta 0:00:01\n",
      "\u001b[?25hCollecting azure-mgmt-datalake-analytics~=0.6.0\n",
      "  Downloading azure_mgmt_datalake_analytics-0.6.0-py2.py3-none-any.whl (288 kB)\n",
      "\u001b[K     |████████████████████████████████| 288 kB 9.3 MB/s eta 0:00:01\n",
      "\u001b[?25hCollecting azure-mgmt-trafficmanager~=0.50.0\n",
      "  Downloading azure_mgmt_trafficmanager-0.50.0-py2.py3-none-any.whl (52 kB)\n",
      "\u001b[K     |████████████████████████████████| 52 kB 3.8 MB/s  eta 0:00:01\n",
      "\u001b[?25hCollecting azure-mgmt-scheduler~=2.0\n",
      "  Downloading azure_mgmt_scheduler-2.0.0-py2.py3-none-any.whl (67 kB)\n",
      "\u001b[K     |████████████████████████████████| 67 kB 11.2 MB/s eta 0:00:01\n",
      "\u001b[?25hCollecting azure-mgmt-subscription~=0.2.0\n",
      "  Downloading azure_mgmt_subscription-0.2.0-py2.py3-none-any.whl (40 kB)\n",
      "\u001b[K     |████████████████████████████████| 40 kB 9.3 MB/s  eta 0:00:01\n",
      "\u001b[?25hCollecting azure-mgmt-cdn~=3.0\n",
      "  Downloading azure_mgmt_cdn-3.1.0-py2.py3-none-any.whl (119 kB)\n",
      "\u001b[K     |████████████████████████████████| 119 kB 22.3 MB/s eta 0:00:01\n",
      "\u001b[?25hCollecting azure-mgmt-recoveryservices~=0.3.0\n",
      "  Downloading azure_mgmt_recoveryservices-0.3.0-py2.py3-none-any.whl (70 kB)\n",
      "\u001b[K     |████████████████████████████████| 70 kB 14.3 MB/s eta 0:00:01\n",
      "\u001b[?25hCollecting azure-mgmt-dns~=2.0\n",
      "  Downloading azure_mgmt_dns-2.1.0-py2.py3-none-any.whl (134 kB)\n",
      "\u001b[K     |████████████████████████████████| 134 kB 19.3 MB/s eta 0:00:01\n",
      "\u001b[?25hCollecting azure-mgmt-keyvault~=1.0\n",
      "  Downloading azure_mgmt_keyvault-1.1.0-py2.py3-none-any.whl (111 kB)\n",
      "\u001b[K     |████████████████████████████████| 111 kB 15.9 MB/s eta 0:00:01\n",
      "\u001b[?25hCollecting azure-mgmt-machinelearningcompute~=0.4.1\n",
      "  Downloading azure_mgmt_machinelearningcompute-0.4.1-py2.py3-none-any.whl (38 kB)\n",
      "Collecting azure-mgmt-search~=2.0\n",
      "  Downloading azure_mgmt_search-2.1.0-py2.py3-none-any.whl (41 kB)\n",
      "\u001b[K     |████████████████████████████████| 41 kB 479 kB/s  eta 0:00:01\n",
      "\u001b[?25hCollecting azure-mgmt-consumption~=2.0\n",
      "  Downloading azure_mgmt_consumption-2.0.0-py2.py3-none-any.whl (46 kB)\n",
      "\u001b[K     |████████████████████████████████| 46 kB 8.2 MB/s  eta 0:00:01\n",
      "\u001b[?25hCollecting azure-mgmt-monitor~=0.5.2\n",
      "  Downloading azure_mgmt_monitor-0.5.2-py2.py3-none-any.whl (247 kB)\n",
      "\u001b[K     |████████████████████████████████| 247 kB 9.7 MB/s eta 0:00:01\n",
      "\u001b[?25hCollecting azure-mgmt-relay~=0.1.0\n",
      "  Downloading azure_mgmt_relay-0.1.0-py2.py3-none-any.whl (36 kB)\n",
      "Collecting azure-mgmt-authorization~=0.50.0\n",
      "  Downloading azure_mgmt_authorization-0.50.0-py2.py3-none-any.whl (81 kB)\n",
      "\u001b[K     |████████████████████████████████| 81 kB 14.6 MB/s eta 0:00:01\n",
      "\u001b[?25hCollecting azure-mgmt-managementgroups~=0.1.0\n",
      "  Downloading azure_mgmt_managementgroups-0.1.0-py2.py3-none-any.whl (59 kB)\n",
      "\u001b[K     |████████████████████████████████| 59 kB 11.1 MB/s eta 0:00:01\n",
      "\u001b[?25hCollecting azure-mgmt-sql~=0.9.1\n",
      "  Downloading azure_mgmt_sql-0.9.1-py2.py3-none-any.whl (485 kB)\n",
      "\u001b[K     |████████████████████████████████| 485 kB 13.4 MB/s eta 0:00:01\n",
      "\u001b[?25hCollecting azure-mgmt-rdbms~=1.2\n",
      "  Downloading azure_mgmt_rdbms-1.9.0-py2.py3-none-any.whl (259 kB)\n",
      "\u001b[K     |████████████████████████████████| 259 kB 25.5 MB/s eta 0:00:01\n",
      "\u001b[?25hCollecting azure-mgmt-redis~=5.0\n",
      "  Downloading azure_mgmt_redis-5.0.0-py2.py3-none-any.whl (43 kB)\n",
      "\u001b[K     |████████████████████████████████| 43 kB 1.8 MB/s  eta 0:00:01\n",
      "\u001b[?25hCollecting azure-mgmt-containerregistry~=2.1\n",
      "  Downloading azure_mgmt_containerregistry-2.8.0-py2.py3-none-any.whl (718 kB)\n",
      "\u001b[K     |████████████████████████████████| 718 kB 19.9 MB/s eta 0:00:01     |████████████████████▌           | 460 kB 19.9 MB/s eta 0:00:01\n",
      "\u001b[?25hCollecting azure-mgmt-policyinsights~=0.1.0\n",
      "  Downloading azure_mgmt_policyinsights-0.1.0-py2.py3-none-any.whl (44 kB)\n",
      "\u001b[K     |████████████████████████████████| 44 kB 3.7 MB/s  eta 0:00:01\n",
      "\u001b[?25hCollecting azure-mgmt-notificationhubs~=2.0\n",
      "  Downloading azure_mgmt_notificationhubs-2.1.0-py2.py3-none-any.whl (76 kB)\n",
      "\u001b[K     |████████████████████████████████| 76 kB 8.8 MB/s  eta 0:00:01\n",
      "\u001b[?25hCollecting azure-mgmt-iotcentral~=0.1.0\n",
      "  Downloading azure_mgmt_iotcentral-0.1.0-py2.py3-none-any.whl (28 kB)\n",
      "Collecting azure-mgmt-servicefabric~=0.2.0\n",
      "  Downloading azure_mgmt_servicefabric-0.2.0-py2.py3-none-any.whl (142 kB)\n",
      "\u001b[K     |████████████████████████████████| 142 kB 24.2 MB/s eta 0:00:01\n",
      "\u001b[?25hCollecting azure-mgmt-web~=0.35.0\n",
      "  Downloading azure_mgmt_web-0.35.0-py2.py3-none-any.whl (358 kB)\n",
      "\u001b[K     |████████████████████████████████| 358 kB 24.5 MB/s eta 0:00:01\n",
      "\u001b[?25hCollecting azure-mgmt-applicationinsights~=0.1.1\n",
      "  Downloading azure_mgmt_applicationinsights-0.1.1-py2.py3-none-any.whl (42 kB)\n",
      "\u001b[K     |████████████████████████████████| 42 kB 2.1 MB/s  eta 0:00:01\n",
      "\u001b[?25hCollecting azure-mgmt-containerinstance~=1.0\n",
      "  Downloading azure_mgmt_containerinstance-1.5.0-py2.py3-none-any.whl (96 kB)\n",
      "\u001b[K     |████████████████████████████████| 96 kB 11.4 MB/s eta 0:00:01\n",
      "\u001b[?25hRequirement already satisfied: chardet<4,>=3.0.2 in /Users/ehoffman/.conda/envs/prework-labs/lib/python3.7/site-packages (from requests->azure-servicemanagement-legacy~=0.20.6->azure) (3.0.4)\n",
      "Requirement already satisfied: idna<3,>=2.5 in /Users/ehoffman/.conda/envs/prework-labs/lib/python3.7/site-packages (from requests->azure-servicemanagement-legacy~=0.20.6->azure) (2.9)\n",
      "Requirement already satisfied: urllib3!=1.25.0,!=1.25.1,<1.26,>=1.21.1 in /Users/ehoffman/.conda/envs/prework-labs/lib/python3.7/site-packages (from requests->azure-servicemanagement-legacy~=0.20.6->azure) (1.25.7)\n",
      "Requirement already satisfied: certifi>=2017.4.17 in /Users/ehoffman/.conda/envs/prework-labs/lib/python3.7/site-packages (from requests->azure-servicemanagement-legacy~=0.20.6->azure) (2019.11.28)\n",
      "Requirement already satisfied: pycparser in /Users/ehoffman/.conda/envs/prework-labs/lib/python3.7/site-packages (from cffi->azure-datalake-store~=0.0.18->azure) (2.19)\n",
      "Collecting PyJWT>=1.0.0\n",
      "  Downloading PyJWT-1.7.1-py2.py3-none-any.whl (18 kB)\n",
      "Collecting isodate>=0.6.0\n",
      "  Downloading isodate-0.6.0-py2.py3-none-any.whl (45 kB)\n",
      "\u001b[K     |████████████████████████████████| 45 kB 4.0 MB/s  eta 0:00:01\n",
      "\u001b[?25hCollecting requests-oauthlib>=0.5.0\n",
      "  Downloading requests_oauthlib-1.3.0-py2.py3-none-any.whl (23 kB)\n",
      "Requirement already satisfied: six>=1.5 in /Users/ehoffman/.conda/envs/prework-labs/lib/python3.7/site-packages (from python-dateutil->azure-cosmosdb-table~=1.0->azure) (1.14.0)\n",
      "Collecting azure-mgmt-nspkg>=2.0.0\n",
      "  Downloading azure_mgmt_nspkg-3.0.2-py3-none-any.whl (1.6 kB)\n",
      "Collecting azure-mgmt-datalake-nspkg>=2.0.0\n",
      "  Downloading azure_mgmt_datalake_nspkg-3.0.1-py3-none-any.whl (1.7 kB)\n",
      "Collecting oauthlib>=3.0.0\n",
      "  Downloading oauthlib-3.1.0-py2.py3-none-any.whl (147 kB)\n",
      "\u001b[K     |████████████████████████████████| 147 kB 12.0 MB/s eta 0:00:01\n",
      "\u001b[?25hInstalling collected packages: azure-common, azure-nspkg, azure-servicemanagement-legacy, azure-storage-common, azure-storage-blob, PyJWT, adal, azure-datalake-store, isodate, oauthlib, requests-oauthlib, msrest, azure-servicefabric, azure-servicebus, msrestazure, azure-batch, azure-applicationinsights, azure-cosmosdb-nspkg, azure-cosmosdb-table, azure-storage-queue, azure-storage-file, azure-graphrbac, azure-keyvault, azure-loganalytics, azure-eventgrid, azure-mgmt-nspkg, azure-mgmt-hanaonazure, azure-mgmt-cognitiveservices, azure-mgmt-cosmosdb, azure-mgmt-advisor, azure-mgmt-containerservice, azure-mgmt-devtestlabs, azure-mgmt-compute, azure-mgmt-devspaces, azure-mgmt-eventhub, azure-mgmt-managementpartner, azure-mgmt-resource, azure-mgmt-datamigration, azure-mgmt-iothub, azure-mgmt-eventgrid, azure-mgmt-maps, azure-mgmt-network, azure-mgmt-billing, azure-mgmt-storage, azure-mgmt-media, azure-mgmt-servicebus, azure-mgmt-loganalytics, azure-mgmt-datafactory, azure-mgmt-batch, azure-mgmt-recoveryservicesbackup, azure-mgmt-batchai, azure-mgmt-datalake-nspkg, azure-mgmt-datalake-store, azure-mgmt-msi, azure-mgmt-powerbiembedded, azure-mgmt-logic, azure-mgmt-iothubprovisioningservices, azure-mgmt-commerce, azure-mgmt-marketplaceordering, azure-mgmt-reservations, azure-mgmt-signalr, azure-mgmt-datalake-analytics, azure-mgmt-trafficmanager, azure-mgmt-scheduler, azure-mgmt-subscription, azure-mgmt-cdn, azure-mgmt-recoveryservices, azure-mgmt-dns, azure-mgmt-keyvault, azure-mgmt-machinelearningcompute, azure-mgmt-search, azure-mgmt-consumption, azure-mgmt-monitor, azure-mgmt-relay, azure-mgmt-authorization, azure-mgmt-managementgroups, azure-mgmt-sql, azure-mgmt-rdbms, azure-mgmt-redis, azure-mgmt-containerregistry, azure-mgmt-policyinsights, azure-mgmt-notificationhubs, azure-mgmt-iotcentral, azure-mgmt-servicefabric, azure-mgmt-web, azure-mgmt-applicationinsights, azure-mgmt-containerinstance, azure-mgmt, azure\n",
      "Successfully installed PyJWT-1.7.1 adal-1.2.2 azure-4.0.0 azure-applicationinsights-0.1.0 azure-batch-4.1.3 azure-common-1.1.24 azure-cosmosdb-nspkg-2.0.2 azure-cosmosdb-table-1.0.6 azure-datalake-store-0.0.48 azure-eventgrid-1.3.0 azure-graphrbac-0.40.0 azure-keyvault-1.1.0 azure-loganalytics-0.1.0 azure-mgmt-4.0.0 azure-mgmt-advisor-1.0.1 azure-mgmt-applicationinsights-0.1.1 azure-mgmt-authorization-0.50.0 azure-mgmt-batch-5.0.1 azure-mgmt-batchai-2.0.0 azure-mgmt-billing-0.2.0 azure-mgmt-cdn-3.1.0 azure-mgmt-cognitiveservices-3.0.0 azure-mgmt-commerce-1.0.1 azure-mgmt-compute-4.6.2 azure-mgmt-consumption-2.0.0 azure-mgmt-containerinstance-1.5.0 azure-mgmt-containerregistry-2.8.0 azure-mgmt-containerservice-4.4.0 azure-mgmt-cosmosdb-0.4.1 azure-mgmt-datafactory-0.6.0 azure-mgmt-datalake-analytics-0.6.0 azure-mgmt-datalake-nspkg-3.0.1 azure-mgmt-datalake-store-0.5.0 azure-mgmt-datamigration-1.0.0 azure-mgmt-devspaces-0.1.0 azure-mgmt-devtestlabs-2.2.0 azure-mgmt-dns-2.1.0 azure-mgmt-eventgrid-1.0.0 azure-mgmt-eventhub-2.6.0 azure-mgmt-hanaonazure-0.1.1 azure-mgmt-iotcentral-0.1.0 azure-mgmt-iothub-0.5.0 azure-mgmt-iothubprovisioningservices-0.2.0 azure-mgmt-keyvault-1.1.0 azure-mgmt-loganalytics-0.2.0 azure-mgmt-logic-3.0.0 azure-mgmt-machinelearningcompute-0.4.1 azure-mgmt-managementgroups-0.1.0 azure-mgmt-managementpartner-0.1.1 azure-mgmt-maps-0.1.0 azure-mgmt-marketplaceordering-0.1.0 azure-mgmt-media-1.0.0 azure-mgmt-monitor-0.5.2 azure-mgmt-msi-0.2.0 azure-mgmt-network-2.7.0 azure-mgmt-notificationhubs-2.1.0 azure-mgmt-nspkg-3.0.2 azure-mgmt-policyinsights-0.1.0 azure-mgmt-powerbiembedded-2.0.0 azure-mgmt-rdbms-1.9.0 azure-mgmt-recoveryservices-0.3.0 azure-mgmt-recoveryservicesbackup-0.3.0 azure-mgmt-redis-5.0.0 azure-mgmt-relay-0.1.0 azure-mgmt-reservations-0.2.1 azure-mgmt-resource-2.2.0 azure-mgmt-scheduler-2.0.0 azure-mgmt-search-2.1.0 azure-mgmt-servicebus-0.5.3 azure-mgmt-servicefabric-0.2.0 azure-mgmt-signalr-0.1.1 azure-mgmt-sql-0.9.1 azure-mgmt-storage-2.0.0 azure-mgmt-subscription-0.2.0 azure-mgmt-trafficmanager-0.50.0 azure-mgmt-web-0.35.0 azure-nspkg-3.0.2 azure-servicebus-0.21.1 azure-servicefabric-6.3.0.0 azure-servicemanagement-legacy-0.20.6 azure-storage-blob-1.5.0 azure-storage-common-1.4.2 azure-storage-file-1.4.0 azure-storage-queue-1.4.0 isodate-0.6.0 msrest-0.6.11 msrestazure-0.6.2 oauthlib-3.1.0 requests-oauthlib-1.3.0\n"
     ]
    }
   ],
   "source": [
    "# I'll install this using PIP, the package installer for Python.\n",
    "# This is a bash command, but I can run this in the notebook by\n",
    "# prefixing the command with a '!' (\"bang\"):\n",
    "\n",
    "!pip install azure"
   ]
  },
  {
   "cell_type": "markdown",
   "metadata": {},
   "source": [
    "Now I can import the library:"
   ]
  },
  {
   "cell_type": "code",
   "execution_count": 5,
   "metadata": {},
   "outputs": [],
   "source": [
    "import azure"
   ]
  },
  {
   "cell_type": "markdown",
   "metadata": {},
   "source": [
    "Many packages have standard import aliases. We effect this aliasing by using the Python keyword `as`. For numpy, the standard alias is `np`."
   ]
  },
  {
   "cell_type": "code",
   "execution_count": 6,
   "metadata": {},
   "outputs": [
    {
     "name": "stdout",
     "output_type": "stream",
     "text": [
      "[1 2 3]\n"
     ]
    },
    {
     "data": {
      "text/plain": [
       "numpy.ndarray"
      ]
     },
     "execution_count": 6,
     "metadata": {},
     "output_type": "execute_result"
    }
   ],
   "source": [
    "import numpy as np\n",
    "\n",
    "x = np.array([1,2,3])\n",
    "print(x)\n",
    "type(x)"
   ]
  },
  {
   "cell_type": "markdown",
   "metadata": {},
   "source": [
    "Of course we could use any alias we like, including Python keywords! But if we did this, we'd overwrite the meaning of those keywords."
   ]
  },
  {
   "cell_type": "markdown",
   "metadata": {},
   "source": [
    "## 2. NumPy versus base Python\n",
    "\n",
    "Now that we know libraries exist, why do we want to use them? Let us examine a comparison between base Python and Numpy.\n",
    "\n",
    "Python has lists and normal python can do basic math. NumPy, however, has the helpful objects called arrays.\n",
    "\n",
    "Numpy has a few advantages over base Python which we will look at."
   ]
  },
  {
   "cell_type": "code",
   "execution_count": 7,
   "metadata": {},
   "outputs": [
    {
     "name": "stdout",
     "output_type": "stream",
     "text": [
      "['Bob', 'John', 'Sally']\n",
      "['Bob' 'John' 'Sally']\n"
     ]
    }
   ],
   "source": [
    "names_list = ['Bob', 'John', 'Sally']\n",
    "\n",
    "#use numpy.array for numbers and numpy.char.array for strings\n",
    "\n",
    "names_array = numpy.char.array(['Bob','John','Sally'])\n",
    "\n",
    "print(names_list)\n",
    "print(names_array)"
   ]
  },
  {
   "cell_type": "code",
   "execution_count": null,
   "metadata": {},
   "outputs": [],
   "source": [
    "# Make a list and an array of three numbers\n",
    "\n",
    "#your code here\n",
    "numbers_list =\n",
    "numbers_array ="
   ]
  },
  {
   "cell_type": "code",
   "execution_count": null,
   "metadata": {},
   "outputs": [],
   "source": [
    "# multiply your array by 3\n",
    "\n"
   ]
  },
  {
   "cell_type": "code",
   "execution_count": null,
   "metadata": {},
   "outputs": [],
   "source": [
    "# multiply your list by 3\n",
    "\n"
   ]
  },
  {
   "cell_type": "markdown",
   "metadata": {},
   "source": [
    "Numpy arrays support the _div_ operator while python lists do not. There are other things that make it useful to utilize numpy over base python for evaluating data.\n",
    "\n",
    "Below, you will find a piece of code we will use to compare the speed of operations on a list and operations on an array."
   ]
  },
  {
   "cell_type": "code",
   "execution_count": 8,
   "metadata": {},
   "outputs": [],
   "source": [
    "size_of_vec = 1000\n",
    "\n",
    "X = range(size_of_vec)\n",
    "Y = range(size_of_vec)"
   ]
  },
  {
   "cell_type": "code",
   "execution_count": 9,
   "metadata": {},
   "outputs": [
    {
     "name": "stdout",
     "output_type": "stream",
     "text": [
      "307 µs ± 7.02 µs per loop (mean ± std. dev. of 7 runs, 1000 loops each)\n"
     ]
    }
   ],
   "source": [
    "%timeit [X[i] + Y[i] for i in range(len(X))]"
   ]
  },
  {
   "cell_type": "code",
   "execution_count": 10,
   "metadata": {},
   "outputs": [],
   "source": [
    "X = np.arange(size_of_vec)\n",
    "Y = np.arange(size_of_vec)"
   ]
  },
  {
   "cell_type": "code",
   "execution_count": 11,
   "metadata": {},
   "outputs": [
    {
     "name": "stdout",
     "output_type": "stream",
     "text": [
      "979 ns ± 8.27 ns per loop (mean ± std. dev. of 7 runs, 1000000 loops each)\n"
     ]
    }
   ],
   "source": [
    "%timeit X + Y"
   ]
  },
  {
   "cell_type": "markdown",
   "metadata": {},
   "source": [
    "## 3. What Else Can Numpy Do?"
   ]
  },
  {
   "cell_type": "markdown",
   "metadata": {},
   "source": [
    "Type `numbers_list.` and then hit `TAB`. What options do you have?"
   ]
  },
  {
   "cell_type": "code",
   "execution_count": null,
   "metadata": {},
   "outputs": [],
   "source": [
    "numbers_list."
   ]
  },
  {
   "cell_type": "markdown",
   "metadata": {},
   "source": [
    "The names of standard Python list attributes and methods appear:\n",
    "\n",
    "- `append(x)` (add x to the end of the list)\n",
    "- `clear()` (delete all elements of the list)\n",
    "- `copy()` (make a copy of the list)\n",
    "- `count(x)` (return the number of instances of x in the list)\n",
    "- `extend([x, y])` (add x and y to the end of the list)\n",
    "- `index(x)` (return the position in the list of x)\n",
    "- `insert(x, y)` (insert y into position x in the list)\n",
    "- `pop(i=-1)` (remove and return the element at position i in the list)\n",
    "- `remove(x)` (remove x from the list)\n",
    "- `reverse()` (reverse the order of the elements of the list)\n",
    "- `sort()` (sort the elements of the list)"
   ]
  },
  {
   "cell_type": "markdown",
   "metadata": {},
   "source": [
    "Now type `numbers_array.` and then hit `TAB`. What options do you have?"
   ]
  },
  {
   "cell_type": "code",
   "execution_count": null,
   "metadata": {},
   "outputs": [],
   "source": [
    "numbers_array."
   ]
  },
  {
   "cell_type": "markdown",
   "metadata": {},
   "source": [
    "Now there are many new options!\n",
    "\n",
    "Exercise: Write down quick one-liners to describe what these methods do:\n",
    "\n",
    "\n",
    "- `max()`\n",
    "- `mean()`\n",
    "- `min()`\n",
    "- `round()`\n",
    "- `std()`\n",
    "- `sum()`"
   ]
  },
  {
   "cell_type": "markdown",
   "metadata": {},
   "source": [
    "### Better Math Tools"
   ]
  },
  {
   "cell_type": "markdown",
   "metadata": {},
   "source": [
    "#### Trigonometry:\n",
    "- `np.pi` for $\\pi$"
   ]
  },
  {
   "cell_type": "code",
   "execution_count": 12,
   "metadata": {},
   "outputs": [
    {
     "data": {
      "text/plain": [
       "3.141592653589793"
      ]
     },
     "execution_count": 12,
     "metadata": {},
     "output_type": "execute_result"
    }
   ],
   "source": [
    "np.pi"
   ]
  },
  {
   "cell_type": "markdown",
   "metadata": {},
   "source": [
    "- `np.sin()` for the sine function"
   ]
  },
  {
   "cell_type": "code",
   "execution_count": 13,
   "metadata": {},
   "outputs": [
    {
     "data": {
      "text/plain": [
       "0.49999999999999994"
      ]
     },
     "execution_count": 13,
     "metadata": {},
     "output_type": "execute_result"
    }
   ],
   "source": [
    "np.sin(np.pi / 6)"
   ]
  },
  {
   "cell_type": "markdown",
   "metadata": {},
   "source": [
    "- `np.cos()` for the cosine function\n",
    "- `np.tan()` for the tangent function\n",
    "- `np.sinh()` for the hyperbolic sine function\n",
    "- `np.cosh()` for the hyperbolic cosine function\n",
    "- `np.tanh()` for the hyperbolic tangent function"
   ]
  },
  {
   "cell_type": "markdown",
   "metadata": {},
   "source": [
    "#### Number Theory:\n",
    "- `np.binary_repr()` to convert from decimal to binary"
   ]
  },
  {
   "cell_type": "code",
   "execution_count": 14,
   "metadata": {},
   "outputs": [
    {
     "data": {
      "text/plain": [
       "'1010'"
      ]
     },
     "execution_count": 14,
     "metadata": {},
     "output_type": "execute_result"
    }
   ],
   "source": [
    "np.binary_repr(10)"
   ]
  },
  {
   "cell_type": "markdown",
   "metadata": {},
   "source": [
    "- `np.diff()` to calculate, recursively, the differences between sequence terms"
   ]
  },
  {
   "cell_type": "code",
   "execution_count": 15,
   "metadata": {},
   "outputs": [
    {
     "data": {
      "text/plain": [
       "array([3, 5, 7])"
      ]
     },
     "execution_count": 15,
     "metadata": {},
     "output_type": "execute_result"
    }
   ],
   "source": [
    "np.diff([1, 4, 9, 16])"
   ]
  },
  {
   "cell_type": "code",
   "execution_count": 16,
   "metadata": {},
   "outputs": [
    {
     "data": {
      "text/plain": [
       "array([2, 2])"
      ]
     },
     "execution_count": 16,
     "metadata": {},
     "output_type": "execute_result"
    }
   ],
   "source": [
    "np.diff([1, 4, 9, 16], n=2)"
   ]
  },
  {
   "cell_type": "markdown",
   "metadata": {},
   "source": [
    "- `np.gcd()` for the greatest common divisor"
   ]
  },
  {
   "cell_type": "code",
   "execution_count": 17,
   "metadata": {},
   "outputs": [
    {
     "data": {
      "text/plain": [
       "4"
      ]
     },
     "execution_count": 17,
     "metadata": {},
     "output_type": "execute_result"
    }
   ],
   "source": [
    "np.gcd(8, 100)"
   ]
  },
  {
   "cell_type": "markdown",
   "metadata": {},
   "source": [
    "#### Array Logic:\n",
    "- `np.bitwise_not()`\n",
    "- `np.bitwise_and()`"
   ]
  },
  {
   "cell_type": "code",
   "execution_count": 18,
   "metadata": {},
   "outputs": [
    {
     "data": {
      "text/plain": [
       "array([False, False,  True])"
      ]
     },
     "execution_count": 18,
     "metadata": {},
     "output_type": "execute_result"
    }
   ],
   "source": [
    "np.bitwise_and([True, False, True], [False, True, True])"
   ]
  },
  {
   "cell_type": "markdown",
   "metadata": {},
   "source": [
    "- `np.bitwise_or()`\n",
    "- `np.bitwise_xor()`\n",
    "- `np.concatenate()`"
   ]
  },
  {
   "cell_type": "code",
   "execution_count": 19,
   "metadata": {},
   "outputs": [
    {
     "data": {
      "text/plain": [
       "array([1, 2, 3, 4])"
      ]
     },
     "execution_count": 19,
     "metadata": {},
     "output_type": "execute_result"
    }
   ],
   "source": [
    "np.concatenate([[1, 2], [3, 4]])"
   ]
  },
  {
   "cell_type": "markdown",
   "metadata": {},
   "source": [
    "#### Complex Numbers:\n",
    "- `np.complex()`"
   ]
  },
  {
   "cell_type": "code",
   "execution_count": 20,
   "metadata": {},
   "outputs": [
    {
     "data": {
      "text/plain": [
       "(2-3j)"
      ]
     },
     "execution_count": 20,
     "metadata": {},
     "output_type": "execute_result"
    }
   ],
   "source": [
    "np.complex(2, -3)"
   ]
  },
  {
   "cell_type": "markdown",
   "metadata": {},
   "source": [
    "#### Data Analysis:\n",
    "- `np.histogram()`"
   ]
  },
  {
   "cell_type": "code",
   "execution_count": 21,
   "metadata": {
    "scrolled": true
   },
   "outputs": [
    {
     "data": {
      "text/plain": [
       "(array([1, 0, 0, 0, 0, 0, 0, 0, 0, 1]),\n",
       " array([1. , 1.1, 1.2, 1.3, 1.4, 1.5, 1.6, 1.7, 1.8, 1.9, 2. ]))"
      ]
     },
     "execution_count": 21,
     "metadata": {},
     "output_type": "execute_result"
    }
   ],
   "source": [
    "np.histogram([1, 2])"
   ]
  },
  {
   "cell_type": "markdown",
   "metadata": {},
   "source": [
    "#### Logarithms:\n",
    "- `np.exp()` for Euler's number with exponent"
   ]
  },
  {
   "cell_type": "code",
   "execution_count": 22,
   "metadata": {},
   "outputs": [
    {
     "data": {
      "text/plain": [
       "7.38905609893065"
      ]
     },
     "execution_count": 22,
     "metadata": {},
     "output_type": "execute_result"
    }
   ],
   "source": [
    "np.exp(2)"
   ]
  },
  {
   "cell_type": "markdown",
   "metadata": {},
   "source": [
    "- `np.log()` for logarithms"
   ]
  },
  {
   "cell_type": "code",
   "execution_count": 23,
   "metadata": {},
   "outputs": [
    {
     "data": {
      "text/plain": [
       "2.302585092994046"
      ]
     },
     "execution_count": 23,
     "metadata": {},
     "output_type": "execute_result"
    }
   ],
   "source": [
    "np.log(10)"
   ]
  },
  {
   "cell_type": "markdown",
   "metadata": {},
   "source": [
    "#### Linear Algebra:"
   ]
  },
  {
   "cell_type": "markdown",
   "metadata": {},
   "source": [
    "`np.linalg` is an incredibly useful module for matrix mathematics, which we shall need in future lessons!"
   ]
  },
  {
   "cell_type": "markdown",
   "metadata": {},
   "source": [
    "### More Tools\n",
    "\n",
    "See [here](https://numpy.org/devdocs/user/basics.html) for more information about numpy. Let's go over some of these points:\n",
    "\n",
    "#### [More numeric data types than base Python](https://numpy.org/devdocs/user/basics.types.html)\n",
    "\n",
    "#### Intrinsic array constructors:"
   ]
  },
  {
   "cell_type": "code",
   "execution_count": 24,
   "metadata": {},
   "outputs": [
    {
     "name": "stdout",
     "output_type": "stream",
     "text": [
      "[0. 0. 0. 0. 0. 0. 0. 0. 0. 0.]\n",
      "[1. 1. 1. 1. 1. 1. 1. 1. 1. 1.]\n",
      "[0. 1. 2. 3. 4. 5. 6. 7. 8. 9.]\n",
      "[0.1 0.2 0.3 0.4 0.5 0.6 0.7 0.8 0.9 1. ]\n"
     ]
    }
   ],
   "source": [
    "print(np.zeros(10))\n",
    "print(np.ones(10))\n",
    "print(np.arange(10, dtype=float))\n",
    "print(np.linspace(0.1, 1, 10))"
   ]
  },
  {
   "cell_type": "markdown",
   "metadata": {},
   "source": [
    "#### Multi-dimensional indexing:"
   ]
  },
  {
   "cell_type": "code",
   "execution_count": 25,
   "metadata": {},
   "outputs": [
    {
     "data": {
      "text/plain": [
       "(2, 3)"
      ]
     },
     "execution_count": 25,
     "metadata": {},
     "output_type": "execute_result"
    }
   ],
   "source": [
    "nums = np.array([[1, 2, 3], [4, 5, 6]])\n",
    "nums.shape"
   ]
  },
  {
   "cell_type": "code",
   "execution_count": 26,
   "metadata": {},
   "outputs": [
    {
     "data": {
      "text/plain": [
       "3"
      ]
     },
     "execution_count": 26,
     "metadata": {},
     "output_type": "execute_result"
    }
   ],
   "source": [
    "nums[0, 2]"
   ]
  },
  {
   "cell_type": "markdown",
   "metadata": {},
   "source": [
    "Why is this more efficient than `nums[0][2]`?"
   ]
  },
  {
   "cell_type": "code",
   "execution_count": 27,
   "metadata": {},
   "outputs": [
    {
     "name": "stdout",
     "output_type": "stream",
     "text": [
      "171 ns ± 1.06 ns per loop (mean ± std. dev. of 7 runs, 10000000 loops each)\n"
     ]
    }
   ],
   "source": [
    "%timeit nums[0, 2]"
   ]
  },
  {
   "cell_type": "code",
   "execution_count": 28,
   "metadata": {},
   "outputs": [
    {
     "name": "stdout",
     "output_type": "stream",
     "text": [
      "345 ns ± 12.9 ns per loop (mean ± std. dev. of 7 runs, 1000000 loops each)\n"
     ]
    }
   ],
   "source": [
    "%timeit nums[0][2]"
   ]
  },
  {
   "cell_type": "markdown",
   "metadata": {},
   "source": [
    "#### Filtering:"
   ]
  },
  {
   "cell_type": "code",
   "execution_count": 29,
   "metadata": {},
   "outputs": [],
   "source": [
    "data = np.array([10, 3, 4, 7, 6])"
   ]
  },
  {
   "cell_type": "code",
   "execution_count": 30,
   "metadata": {},
   "outputs": [
    {
     "data": {
      "text/plain": [
       "array([3, 4])"
      ]
     },
     "execution_count": 30,
     "metadata": {},
     "output_type": "execute_result"
    }
   ],
   "source": [
    "data[data < 5]"
   ]
  },
  {
   "cell_type": "markdown",
   "metadata": {},
   "source": [
    "#### Broadcasting:"
   ]
  },
  {
   "cell_type": "code",
   "execution_count": 31,
   "metadata": {},
   "outputs": [],
   "source": [
    "arr1 = np.array([-1, -2, -3])\n",
    "arr2 = -8"
   ]
  },
  {
   "cell_type": "code",
   "execution_count": 32,
   "metadata": {},
   "outputs": [
    {
     "data": {
      "text/plain": [
       "array([ -9, -10, -11])"
      ]
     },
     "execution_count": 32,
     "metadata": {},
     "output_type": "execute_result"
    }
   ],
   "source": [
    "arr1 + arr2"
   ]
  },
  {
   "cell_type": "markdown",
   "metadata": {},
   "source": [
    "Two arrays can be broadcast together if their dimensions have *the same* value or if one of the dimensions has a value of *1*."
   ]
  },
  {
   "cell_type": "code",
   "execution_count": 33,
   "metadata": {},
   "outputs": [],
   "source": [
    "arr3 = np.array([[-10., 3., 175.2], [25., 1.47, 9.36]])\n",
    "arr4 = np.array([5, 5, 5])"
   ]
  },
  {
   "cell_type": "code",
   "execution_count": 34,
   "metadata": {},
   "outputs": [
    {
     "data": {
      "text/plain": [
       "array([[-50.  ,  15.  , 876.  ],\n",
       "       [125.  ,   7.35,  46.8 ]])"
      ]
     },
     "execution_count": 34,
     "metadata": {},
     "output_type": "execute_result"
    }
   ],
   "source": [
    "arr3 * arr4"
   ]
  },
  {
   "cell_type": "markdown",
   "metadata": {},
   "source": [
    "#### np.nan and np.inf\n",
    "\n",
    "NaN stands for \"not a number\". Numpy's np.nan is a handy way of representing these, in part because np.nan *is a float!*"
   ]
  },
  {
   "cell_type": "code",
   "execution_count": 35,
   "metadata": {},
   "outputs": [
    {
     "data": {
      "text/plain": [
       "float"
      ]
     },
     "execution_count": 35,
     "metadata": {},
     "output_type": "execute_result"
    }
   ],
   "source": [
    "type(np.nan)"
   ]
  },
  {
   "cell_type": "markdown",
   "metadata": {},
   "source": [
    "This makes it convenient to perform mathematical operations on arrays that contain NaNs."
   ]
  },
  {
   "cell_type": "code",
   "execution_count": 36,
   "metadata": {},
   "outputs": [],
   "source": [
    "arr5 = np.array([1, 10, np.nan])"
   ]
  },
  {
   "cell_type": "code",
   "execution_count": 37,
   "metadata": {},
   "outputs": [
    {
     "data": {
      "text/plain": [
       "nan"
      ]
     },
     "execution_count": 37,
     "metadata": {},
     "output_type": "execute_result"
    }
   ],
   "source": [
    "arr5.mean()"
   ]
  },
  {
   "cell_type": "markdown",
   "metadata": {},
   "source": [
    "Even though the array has a NaN, we don't get an error in calculating its mean. Moreover, we can do this:"
   ]
  },
  {
   "cell_type": "code",
   "execution_count": 38,
   "metadata": {},
   "outputs": [
    {
     "data": {
      "text/plain": [
       "3.6666666666666665"
      ]
     },
     "execution_count": 38,
     "metadata": {},
     "output_type": "execute_result"
    }
   ],
   "source": [
    "np.nansum(arr5) / len(arr5)"
   ]
  },
  {
   "cell_type": "markdown",
   "metadata": {},
   "source": [
    "And this:"
   ]
  },
  {
   "cell_type": "code",
   "execution_count": 39,
   "metadata": {},
   "outputs": [
    {
     "data": {
      "text/plain": [
       "5.5"
      ]
     },
     "execution_count": 39,
     "metadata": {},
     "output_type": "execute_result"
    }
   ],
   "source": [
    "np.nanmean(arr5)"
   ]
  },
  {
   "cell_type": "code",
   "execution_count": 40,
   "metadata": {},
   "outputs": [
    {
     "data": {
      "text/plain": [
       "inf"
      ]
     },
     "execution_count": 40,
     "metadata": {},
     "output_type": "execute_result"
    }
   ],
   "source": [
    "np.inf"
   ]
  },
  {
   "cell_type": "code",
   "execution_count": 41,
   "metadata": {},
   "outputs": [
    {
     "data": {
      "text/plain": [
       "False"
      ]
     },
     "execution_count": 41,
     "metadata": {},
     "output_type": "execute_result"
    }
   ],
   "source": [
    "np.isfinite(np.inf)"
   ]
  },
  {
   "cell_type": "code",
   "execution_count": 42,
   "metadata": {},
   "outputs": [],
   "source": [
    "def inv(x):\n",
    "    return x**(-2)"
   ]
  },
  {
   "cell_type": "code",
   "execution_count": 43,
   "metadata": {},
   "outputs": [
    {
     "ename": "ZeroDivisionError",
     "evalue": "0.0 cannot be raised to a negative power",
     "output_type": "error",
     "traceback": [
      "\u001b[0;31m---------------------------------------------------------------------------\u001b[0m",
      "\u001b[0;31mZeroDivisionError\u001b[0m                         Traceback (most recent call last)",
      "\u001b[0;32m<ipython-input-43-9b29e54226d9>\u001b[0m in \u001b[0;36m<module>\u001b[0;34m\u001b[0m\n\u001b[0;32m----> 1\u001b[0;31m \u001b[0minv\u001b[0m\u001b[0;34m(\u001b[0m\u001b[0;36m0\u001b[0m\u001b[0;34m)\u001b[0m\u001b[0;34m\u001b[0m\u001b[0;34m\u001b[0m\u001b[0m\n\u001b[0m",
      "\u001b[0;32m<ipython-input-42-7e45c0f9728c>\u001b[0m in \u001b[0;36minv\u001b[0;34m(x)\u001b[0m\n\u001b[1;32m      1\u001b[0m \u001b[0;32mdef\u001b[0m \u001b[0minv\u001b[0m\u001b[0;34m(\u001b[0m\u001b[0mx\u001b[0m\u001b[0;34m)\u001b[0m\u001b[0;34m:\u001b[0m\u001b[0;34m\u001b[0m\u001b[0;34m\u001b[0m\u001b[0m\n\u001b[0;32m----> 2\u001b[0;31m     \u001b[0;32mreturn\u001b[0m \u001b[0mx\u001b[0m\u001b[0;34m**\u001b[0m\u001b[0;34m(\u001b[0m\u001b[0;34m-\u001b[0m\u001b[0;36m2\u001b[0m\u001b[0;34m)\u001b[0m\u001b[0;34m\u001b[0m\u001b[0;34m\u001b[0m\u001b[0m\n\u001b[0m",
      "\u001b[0;31mZeroDivisionError\u001b[0m: 0.0 cannot be raised to a negative power"
     ]
    }
   ],
   "source": [
    "inv(0)"
   ]
  },
  {
   "cell_type": "code",
   "execution_count": 44,
   "metadata": {},
   "outputs": [],
   "source": [
    "def inverse(x):\n",
    "    if x == 0:\n",
    "        val = np.inf\n",
    "    else:\n",
    "        val = x**(-2)\n",
    "    return val"
   ]
  },
  {
   "cell_type": "code",
   "execution_count": 45,
   "metadata": {},
   "outputs": [
    {
     "data": {
      "text/plain": [
       "inf"
      ]
     },
     "execution_count": 45,
     "metadata": {},
     "output_type": "execute_result"
    }
   ],
   "source": [
    "inverse(0)"
   ]
  },
  {
   "cell_type": "markdown",
   "metadata": {},
   "source": [
    "## Exercises"
   ]
  },
  {
   "cell_type": "markdown",
   "metadata": {},
   "source": [
    "1. Write down descriptions of what these methods do:"
   ]
  },
  {
   "cell_type": "markdown",
   "metadata": {},
   "source": [
    "- `all()`\n",
    "- `any()`\n",
    "- `cumprod()`\n",
    "- `cumsum()`\n",
    "- `reshape()`\n",
    "- `shape` --> No parentheses! This is an attribute and not a method."
   ]
  },
  {
   "cell_type": "markdown",
   "metadata": {},
   "source": [
    "2. Calculate the following using numpy:"
   ]
  },
  {
   "cell_type": "markdown",
   "metadata": {},
   "source": [
    "- $\\cos\\left(\\frac{\\pi}{3}\\right)$\n",
    "- $\\cosh\\left(\\frac{\\pi}{3}\\right)$"
   ]
  },
  {
   "cell_type": "code",
   "execution_count": null,
   "metadata": {},
   "outputs": [],
   "source": []
  },
  {
   "cell_type": "markdown",
   "metadata": {},
   "source": [
    "3. Write a function that will return the sum of the first $n$ terms of an array, where the user inputs both $n$ and the array."
   ]
  },
  {
   "cell_type": "code",
   "execution_count": null,
   "metadata": {},
   "outputs": [],
   "source": []
  },
  {
   "cell_type": "markdown",
   "metadata": {},
   "source": [
    "4. Write a function that will return the logarithm of the standard deviation of an input array."
   ]
  },
  {
   "cell_type": "code",
   "execution_count": null,
   "metadata": {},
   "outputs": [],
   "source": []
  },
  {
   "cell_type": "markdown",
   "metadata": {},
   "source": [
    "5. Use numpy to multiply the complex numbers $257 + 134i$ and $987 - 643i$."
   ]
  },
  {
   "cell_type": "code",
   "execution_count": null,
   "metadata": {},
   "outputs": [],
   "source": []
  },
  {
   "cell_type": "markdown",
   "metadata": {},
   "source": [
    "6. **Euler's Formula.** How could we use numpy to test Euler's Formula: $e^{\\pi i} + 1 = 0$?"
   ]
  },
  {
   "cell_type": "code",
   "execution_count": null,
   "metadata": {},
   "outputs": [],
   "source": []
  }
 ],
 "metadata": {
  "kernelspec": {
   "display_name": "Python 3",
   "language": "python",
   "name": "python3"
  },
  "language_info": {
   "codemirror_mode": {
    "name": "ipython",
    "version": 3
   },
   "file_extension": ".py",
   "mimetype": "text/x-python",
   "name": "python",
   "nbconvert_exporter": "python",
   "pygments_lexer": "ipython3",
   "version": "3.7.3"
  }
 },
 "nbformat": 4,
 "nbformat_minor": 4
}
