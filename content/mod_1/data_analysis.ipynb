{
 "cells": [
  {
   "cell_type": "markdown",
   "metadata": {},
   "source": [
    "# Data analysis in Python using built-in types\n",
    "\n",
    "-----\n",
    "\n",
    "## Learning Objectives\n",
    "\n",
    "* Using the command line to:\n",
    "    + make directories\n",
    "    + download files from internet\n",
    "    + unzip `.zip` files\n",
    "* Import a `.csv` file without [`pandas`](https://pandas.pydata.org/about.html) or [`numpy`](https://www.numpy.org/)\n",
    "* Perform data analysis using built-in types\n",
    "    + working with dates\n",
    "    + sorting dictionaries\n",
    "    + for loops and list comprehension\n",
    "    + visualizing data with [`matplotlib`](https://matplotlib.org/index.html)"
   ]
  },
  {
   "cell_type": "markdown",
   "metadata": {},
   "source": [
    "## Create a new `raw_data` directory"
   ]
  },
  {
   "cell_type": "code",
   "execution_count": 2,
   "metadata": {},
   "outputs": [],
   "source": [
    "!mkdir raw_data"
   ]
  },
  {
   "cell_type": "markdown",
   "metadata": {},
   "source": [
    "## Install Homebrew\n",
    "\n",
    "[`homebrew`](https://brew.sh/) is the package manager for MacOS. This tutorial assumes that you have it installed on your machine.\n",
    "\n",
    "*If not, please uncomment and run the cell below to install `homebrew`.*"
   ]
  },
  {
   "cell_type": "code",
   "execution_count": null,
   "metadata": {},
   "outputs": [],
   "source": [
    "#/usr/bin/ruby -e \"$(curl -fsSL https://raw.githubusercontent.com/Homebrew/install/master/install)\""
   ]
  },
  {
   "cell_type": "markdown",
   "metadata": {},
   "source": [
    "## Download necessary data\n",
    "\n",
    "Let's download [King County, WA property sales data](https://info.kingcounty.gov/assessor/DataDownload/default.aspx) into our newly created `raw_data` directory. We'll be using the [`wget`](https://www.gnu.org/software/wget/) package to download local copies of files from the Internet. \n",
    "\n",
    "The default directory is the current working directory so we need to specify where `wget` should place the file via the `-P` flag.\n",
    "\n",
    "```\n",
    "# <> are placeholders so do not include them in your commands\n",
    "wget <url> -P <file path>\n",
    "```\n",
    "\n",
    "*If you don't have `wget`, uncomment the cell below to have `brew` install it for you.*"
   ]
  },
  {
   "cell_type": "code",
   "execution_count": null,
   "metadata": {},
   "outputs": [],
   "source": [
    "#!brew install wget"
   ]
  },
  {
   "cell_type": "code",
   "execution_count": 3,
   "metadata": {},
   "outputs": [
    {
     "name": "stdout",
     "output_type": "stream",
     "text": [
      "--2020-03-04 12:17:51--  https://aqua.kingcounty.gov/extranet/assessor/Real%20Property%20Sales.zip\n",
      "Resolving aqua.kingcounty.gov (aqua.kingcounty.gov)... 146.129.240.28\n",
      "Connecting to aqua.kingcounty.gov (aqua.kingcounty.gov)|146.129.240.28|:443... connected.\n",
      "HTTP request sent, awaiting response... 200 OK\n",
      "Length: 127293020 (121M) [application/x-zip-compressed]\n",
      "Saving to: ‘raw_data/Real Property Sales.zip’\n",
      "\n",
      "Real Property Sales 100%[===================>] 121.40M  8.01MB/s    in 17s     \n",
      "\n",
      "2020-03-04 12:18:08 (7.30 MB/s) - ‘raw_data/Real Property Sales.zip’ saved [127293020/127293020]\n",
      "\n"
     ]
    }
   ],
   "source": [
    "!wget https://aqua.kingcounty.gov/extranet/assessor/Real%20Property%20Sales.zip -P raw_data/"
   ]
  },
  {
   "cell_type": "markdown",
   "metadata": {},
   "source": [
    "Let's inspect the contents of `raw_data` to verify that we have the data"
   ]
  },
  {
   "cell_type": "code",
   "execution_count": 4,
   "metadata": {},
   "outputs": [
    {
     "name": "stdout",
     "output_type": "stream",
     "text": [
      "total 263456\n",
      "-rw-r--r--  1 ehoffman  staff  127293020 Feb 28 21:51 Real Property Sales.zip\n"
     ]
    }
   ],
   "source": [
    "!ls -l raw_data/"
   ]
  },
  {
   "cell_type": "markdown",
   "metadata": {},
   "source": [
    "### Unzip `raw_data/Real Property Sales.zip`\n",
    "\n",
    "Currently the data lives in a [`.zip`](http://cvs.bio.unc.edu/protocol/unzip-help/unzip-help.htm) file, which is essentially a layer that contains the actual data.\n",
    "\n",
    "To extract - or unpeel - the contents within the `.zip` file, we'll use the [`unzip`](https://formulae.brew.sh/formula/unzip) command. \n",
    "\n",
    "By specifying `-d raw_data/`, we're telling `unzip` to place the contents of `raw_data/Real Property Sales.zip` inside the `raw_data/` directory.\n",
    "\n",
    "*If you don't have `unzip`, uncomment the cell below to have `brew` install it for you.*"
   ]
  },
  {
   "cell_type": "code",
   "execution_count": null,
   "metadata": {},
   "outputs": [],
   "source": [
    "#!brew install unzip"
   ]
  },
  {
   "cell_type": "code",
   "execution_count": 5,
   "metadata": {},
   "outputs": [
    {
     "name": "stdout",
     "output_type": "stream",
     "text": [
      "Archive:  raw_data/Real Property Sales.zip\n",
      "  inflating: raw_data/EXTR_RPSale.csv  \n"
     ]
    }
   ],
   "source": [
    "!unzip raw_data/Real\\ Property\\ Sales.zip -d raw_data/"
   ]
  },
  {
   "cell_type": "markdown",
   "metadata": {},
   "source": [
    "After unzipping `raw_data/Real Property Sales.zip`, we now have access to the `raw_data/EXTR_RPSale.csv`."
   ]
  },
  {
   "cell_type": "code",
   "execution_count": 6,
   "metadata": {},
   "outputs": [
    {
     "name": "stdout",
     "output_type": "stream",
     "text": [
      "total 1356832\n",
      "-rw-r--r--  1 ehoffman  staff  549516051 Feb 28 18:23 EXTR_RPSale.csv\n",
      "-rw-r--r--  1 ehoffman  staff  127293020 Feb 28 21:51 Real Property Sales.zip\n"
     ]
    }
   ],
   "source": [
    "!ls -l raw_data/"
   ]
  },
  {
   "cell_type": "markdown",
   "metadata": {},
   "source": [
    "## Load necessary data\n",
    "\n",
    "> The `csv` module implements classes to read and write tabular data in CSV format. It allows programmers to say, “write this data in the format preferred by Excel,” or “read data from this file which was generated by Excel,” without knowing the precise details of the CSV format used by Excel. - [`csv` documentation](https://docs.python.org/3/library/csv.html)\n",
    "\n",
    "### Using the `csv` library\n",
    "\n",
    "The `csv` library contains objects and other code to read, write, and process data from and to CSV files. Essentially, we want to read each row in the `.csv` file and stores its information for later use. \n",
    "\n",
    "\n",
    "### How `csv` works\n",
    "\n",
    "The [`csv.DictReader()`](https://docs.python.org/3/library/csv.html#csv.DictReader) function creates an object that operates like a regular reader - where information is returned as [strings](https://docs.python.org/3.7/library/stdtypes.html#text-sequence-type-str) - but maps the information in each row to an [OrderedDict](https://docs.python.org/3/library/collections.html#collections.OrderedDict) whose keys are given by the optional `fieldnames` parameter. If `fieldnames` is omitted, the values in the first row of file f will be used as the fieldnames.\n",
    "\n",
    "Since each row is an `OrderedDict` object, we know that information in each dictionary will be in the same order as they appear within the `.csv` file.\n",
    "\n",
    "### Inspect the first two rows in the `raw_data/EXTR_RPSale.csv` file"
   ]
  },
  {
   "cell_type": "code",
   "execution_count": 7,
   "metadata": {},
   "outputs": [
    {
     "name": "stdout",
     "output_type": "stream",
     "text": [
      "\"ExciseTaxNbr\",\"Major\",\"Minor\",\"DocumentDate\",\"SalePrice\",\"RecordingNbr\",\"Volume\",\"Page\",\"PlatNbr\",\"PlatType\",\"PlatLot\",\"PlatBlock\",\"SellerName\",\"BuyerName\",\"PropertyType\",\"PrincipalUse\",\"SaleInstrument\",\"AFForestLand\",\"AFCurrentUseLand\",\"AFNonProfitUse\",\"AFHistoricProperty\",\"SaleReason\",\"PropertyClass\",\"SaleWarning\"\n",
      "\"2687551\",\"138860\",\"0110\",\"08/21/2014\",\"245000\",\"20140828001436\",\"   \",\"   \",\"      \",\" \",\"              \",\"       \",\"WENKLE NOEL SMITH -TRUSTEE                        \",\"ALEXANDER APRIL                                   \",\"3\",\"6\",\"3\",\"N\",\"N\",\"N\",\"N\",\"1\",\"8\",\" \"\n"
     ]
    }
   ],
   "source": [
    "!head -n 2 raw_data/EXTR_RPSale.csv"
   ]
  },
  {
   "cell_type": "markdown",
   "metadata": {},
   "source": [
    "Now that we know that the first row is the column headers, we can safely omit the `fieldnames` parameter knowing that `csv.DictReader()` will use the first row as the keys within each row."
   ]
  },
  {
   "cell_type": "code",
   "execution_count": 8,
   "metadata": {},
   "outputs": [],
   "source": [
    "import csv\n",
    "\n",
    "sales = []\n",
    "with open(\"raw_data/EXTR_RPSale.csv\") as csvfile:\n",
    "    reader = csv.DictReader(csvfile)\n",
    "    for row in reader:\n",
    "        sales.append(row)"
   ]
  },
  {
   "cell_type": "markdown",
   "metadata": {},
   "source": [
    "The contents of `sales[0]` is exactly the same as it was when we viewed the first two records of the `raw_data/EXTR_RPSale.csv` file from the command line."
   ]
  },
  {
   "cell_type": "code",
   "execution_count": 9,
   "metadata": {},
   "outputs": [
    {
     "data": {
      "text/plain": [
       "OrderedDict([('ExciseTaxNbr', '2687551'),\n",
       "             ('Major', '138860'),\n",
       "             ('Minor', '0110'),\n",
       "             ('DocumentDate', '08/21/2014'),\n",
       "             ('SalePrice', '245000'),\n",
       "             ('RecordingNbr', '20140828001436'),\n",
       "             ('Volume', '   '),\n",
       "             ('Page', '   '),\n",
       "             ('PlatNbr', '      '),\n",
       "             ('PlatType', ' '),\n",
       "             ('PlatLot', '              '),\n",
       "             ('PlatBlock', '       '),\n",
       "             ('SellerName',\n",
       "              'WENKLE NOEL SMITH -TRUSTEE                        '),\n",
       "             ('BuyerName',\n",
       "              'ALEXANDER APRIL                                   '),\n",
       "             ('PropertyType', '3'),\n",
       "             ('PrincipalUse', '6'),\n",
       "             ('SaleInstrument', '3'),\n",
       "             ('AFForestLand', 'N'),\n",
       "             ('AFCurrentUseLand', 'N'),\n",
       "             ('AFNonProfitUse', 'N'),\n",
       "             ('AFHistoricProperty', 'N'),\n",
       "             ('SaleReason', '1'),\n",
       "             ('PropertyClass', '8'),\n",
       "             ('SaleWarning', ' ')])"
      ]
     },
     "execution_count": 9,
     "metadata": {},
     "output_type": "execute_result"
    }
   ],
   "source": [
    "sales[0]"
   ]
  },
  {
   "cell_type": "markdown",
   "metadata": {},
   "source": [
    "## Data Analysis\n",
    "\n",
    "Now that you have all the property sales data from King County, WA within the list `sales`, you can finally start to perform some data analysis."
   ]
  },
  {
   "cell_type": "markdown",
   "metadata": {},
   "source": [
    "### 1. For each year, how many houses were sold?"
   ]
  },
  {
   "cell_type": "markdown",
   "metadata": {},
   "source": [
    "Anytime you encounter questions regarding time, you need to know if your data is in [`datetime`](https://docs.python.org/3.7/library/datetime.html) format. `datetime` objects make it easy to date and time calculation."
   ]
  },
  {
   "cell_type": "code",
   "execution_count": 10,
   "metadata": {},
   "outputs": [],
   "source": [
    "from datetime import datetime"
   ]
  },
  {
   "cell_type": "code",
   "execution_count": 11,
   "metadata": {},
   "outputs": [],
   "source": [
    "for sale in sales:\n",
    "    # transform DocumentDate from string to datetime\n",
    "    sale[\"clean_date\"] = datetime.strptime(sale[\"DocumentDate\"], \n",
    "                                           \"%m/%d/%Y\")\n",
    "    # store the sale year and month\n",
    "    sale[\"sale_year\"] = sale[\"clean_date\"].year\n",
    "    sale[\"sale_month\"] = sale[\"clean_date\"].month"
   ]
  },
  {
   "cell_type": "markdown",
   "metadata": {},
   "source": [
    "Let's inspect our work"
   ]
  },
  {
   "cell_type": "code",
   "execution_count": 12,
   "metadata": {},
   "outputs": [
    {
     "data": {
      "text/plain": [
       "OrderedDict([('ExciseTaxNbr', '2687551'),\n",
       "             ('Major', '138860'),\n",
       "             ('Minor', '0110'),\n",
       "             ('DocumentDate', '08/21/2014'),\n",
       "             ('SalePrice', '245000'),\n",
       "             ('RecordingNbr', '20140828001436'),\n",
       "             ('Volume', '   '),\n",
       "             ('Page', '   '),\n",
       "             ('PlatNbr', '      '),\n",
       "             ('PlatType', ' '),\n",
       "             ('PlatLot', '              '),\n",
       "             ('PlatBlock', '       '),\n",
       "             ('SellerName',\n",
       "              'WENKLE NOEL SMITH -TRUSTEE                        '),\n",
       "             ('BuyerName',\n",
       "              'ALEXANDER APRIL                                   '),\n",
       "             ('PropertyType', '3'),\n",
       "             ('PrincipalUse', '6'),\n",
       "             ('SaleInstrument', '3'),\n",
       "             ('AFForestLand', 'N'),\n",
       "             ('AFCurrentUseLand', 'N'),\n",
       "             ('AFNonProfitUse', 'N'),\n",
       "             ('AFHistoricProperty', 'N'),\n",
       "             ('SaleReason', '1'),\n",
       "             ('PropertyClass', '8'),\n",
       "             ('SaleWarning', ' '),\n",
       "             ('clean_date', datetime.datetime(2014, 8, 21, 0, 0)),\n",
       "             ('sale_year', 2014),\n",
       "             ('sale_month', 8)])"
      ]
     },
     "execution_count": 12,
     "metadata": {},
     "output_type": "execute_result"
    }
   ],
   "source": [
    "sales[0]"
   ]
  },
  {
   "cell_type": "markdown",
   "metadata": {},
   "source": [
    "For all dictionaries in `sales`, we want to count how many property sales occured in each year. Since the value in `sale_year` is an integer, we can used Python's built-in [`sorted`](https://docs.python.org/3/library/functions.html#sorted) function to transform the `Counter` object into a `list` of `tuples` - `(year, count)` which are sorted in ascending order by year."
   ]
  },
  {
   "cell_type": "code",
   "execution_count": 13,
   "metadata": {},
   "outputs": [
    {
     "data": {
      "text/plain": [
       "[(1900, 1),\n",
       " (1934, 1),\n",
       " (1951, 1),\n",
       " (1953, 1),\n",
       " (1954, 9),\n",
       " (1955, 3),\n",
       " (1956, 1),\n",
       " (1957, 3),\n",
       " (1958, 1),\n",
       " (1959, 4),\n",
       " (1960, 10),\n",
       " (1961, 5),\n",
       " (1962, 5),\n",
       " (1963, 9),\n",
       " (1964, 20),\n",
       " (1965, 11),\n",
       " (1966, 12),\n",
       " (1967, 18),\n",
       " (1968, 9),\n",
       " (1969, 20),\n",
       " (1970, 17),\n",
       " (1971, 14),\n",
       " (1972, 27),\n",
       " (1973, 45),\n",
       " (1974, 35),\n",
       " (1975, 43),\n",
       " (1976, 62),\n",
       " (1977, 97),\n",
       " (1978, 103),\n",
       " (1979, 124),\n",
       " (1980, 186),\n",
       " (1981, 408),\n",
       " (1982, 6035),\n",
       " (1983, 8607),\n",
       " (1984, 9200),\n",
       " (1985, 10557),\n",
       " (1986, 14627),\n",
       " (1987, 13575),\n",
       " (1988, 14190),\n",
       " (1989, 17232),\n",
       " (1990, 16606),\n",
       " (1991, 17525),\n",
       " (1992, 67860),\n",
       " (1993, 69457),\n",
       " (1994, 64912),\n",
       " (1995, 57982),\n",
       " (1996, 63655),\n",
       " (1997, 72092),\n",
       " (1998, 79579),\n",
       " (1999, 75240),\n",
       " (2000, 69876),\n",
       " (2001, 71264),\n",
       " (2002, 77036),\n",
       " (2003, 86301),\n",
       " (2004, 89388),\n",
       " (2005, 93485),\n",
       " (2006, 84733),\n",
       " (2007, 73256),\n",
       " (2008, 51811),\n",
       " (2009, 52390),\n",
       " (2010, 54691),\n",
       " (2011, 56184),\n",
       " (2012, 62450),\n",
       " (2013, 69418),\n",
       " (2014, 64270),\n",
       " (2015, 68936),\n",
       " (2016, 70453),\n",
       " (2017, 68442),\n",
       " (2018, 61132),\n",
       " (2019, 60933),\n",
       " (2020, 6264)]"
      ]
     },
     "execution_count": 13,
     "metadata": {},
     "output_type": "execute_result"
    }
   ],
   "source": [
    "from collections import Counter\n",
    "\n",
    "sale_year_count = Counter([sale['sale_year'] for sale in sales])\n",
    "sale_year_count = sorted(sale_year_count.items())\n",
    "sale_year_count"
   ]
  },
  {
   "cell_type": "markdown",
   "metadata": {},
   "source": [
    "This `list` of `tuples` is not something our employers can use to make a decision. Let's visualize the results."
   ]
  },
  {
   "cell_type": "code",
   "execution_count": 14,
   "metadata": {},
   "outputs": [],
   "source": [
    "from matplotlib import pyplot as plt"
   ]
  },
  {
   "cell_type": "code",
   "execution_count": 15,
   "metadata": {},
   "outputs": [
    {
     "data": {
      "image/png": "[encoded data removed]",
      "text/plain": [
       "<Figure size 720x360 with 1 Axes>"
      ]
     },
     "metadata": {
      "needs_background": "light"
     },
     "output_type": "display_data"
    }
   ],
   "source": [
    "# create a figure and one plot\n",
    "fig, ax = plt.subplots(nrows=1, ncols=1, figsize=(10, 5))\n",
    "\n",
    "# place data in a bar chart \n",
    "# where the x-axis is each year and \n",
    "# the y-axis is the number of sales per year\n",
    "ax.bar(x=[sale[0] for sale in sale_year_count],\n",
    "       height=[sale[1] for sale in sale_year_count])\n",
    "\n",
    "# set axis labels\n",
    "ax.set_xlabel(\"Year\")\n",
    "ax.set_ylabel(\"Number of property sales\")\n",
    "\n",
    "# give the bar chart a title\n",
    "ax.set_title(\"Property sales in King County, WA (1900 to 2021)\")\n",
    "\n",
    "# display bar chart clearly\n",
    "fig.tight_layout()"
   ]
  },
  {
   "cell_type": "markdown",
   "metadata": {},
   "source": [
    "By the looks of our number of property sales over time bar plot, it looks like property sales in King County, WA started taking off in the 1980s. They continued climbing into the early 2000s. Despite the recession reducing the number of home sales in the late 2000s, it looks like they are continuing to climb."
   ]
  },
  {
   "cell_type": "markdown",
   "metadata": {},
   "source": [
    "Here are some more exercises to work through on your own:"
   ]
  },
  {
   "cell_type": "markdown",
   "metadata": {},
   "source": [
    "### 2. After removing the one record that took place in 2021, what is the annual average [nominal](https://www.stlouisfed.org/publications/inside-the-vault/fall-2007/nominal-vs-real-oil-prices) property sales price in King County, WA?"
   ]
  },
  {
   "cell_type": "code",
   "execution_count": null,
   "metadata": {},
   "outputs": [],
   "source": []
  },
  {
   "cell_type": "markdown",
   "metadata": {},
   "source": [
    "### 3. Which property has been sold the most in King County, WA throughout time?\n",
    "\n",
    "This questions requires you to create a <strong>P</strong>arcel <strong>I</strong>dentification <strong>N</strong>umber (PIN). To learn how to do this, read the \"Attribute Information\" section on the Parcel webpage from the [King County Geographic Information System (KCGI)](https://www5.kingcounty.gov/sdc/Metadata.aspx?Layer=parcel)."
   ]
  },
  {
   "cell_type": "code",
   "execution_count": null,
   "metadata": {},
   "outputs": [],
   "source": []
  },
  {
   "cell_type": "markdown",
   "metadata": {},
   "source": [
    "### 4. Who are the top 5 sellers in terms of who has sold the most property in King County, WA throughout time?"
   ]
  },
  {
   "cell_type": "code",
   "execution_count": null,
   "metadata": {},
   "outputs": [],
   "source": []
  },
  {
   "cell_type": "markdown",
   "metadata": {},
   "source": [
    "### 5. From 2009 to 2019, which buyer has bought the most property in King County, WA?"
   ]
  },
  {
   "cell_type": "code",
   "execution_count": null,
   "metadata": {},
   "outputs": [],
   "source": []
  }
 ],
 "metadata": {
  "kernelspec": {
   "display_name": "Python 3 (prework-labs)",
   "language": "python",
   "name": "prework-labs"
  },
  "language_info": {
   "codemirror_mode": {
    "name": "ipython",
    "version": 3
   },
   "file_extension": ".py",
   "mimetype": "text/x-python",
   "name": "python",
   "nbconvert_exporter": "python",
   "pygments_lexer": "ipython3",
   "version": "3.7.3"
  }
 },
 "nbformat": 4,
 "nbformat_minor": 4
}
