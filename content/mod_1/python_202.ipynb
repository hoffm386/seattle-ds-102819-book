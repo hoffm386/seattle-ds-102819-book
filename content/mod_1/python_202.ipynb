{
 "cells": [
  {
   "cell_type": "markdown",
   "metadata": {},
   "source": [
    "# More Python Essentials!\n",
    "\n",
    "## Methods\n",
    "\n",
    "A method is a function that belongs to an object. And in Python, most things are objects! Naturally, the methods that belong to a particular object can vary depending on the object's datatype.\n",
    "\n",
    "### String Methods\n",
    "\n",
    "Here are some useful methods for strings:\n",
    "\n",
    "- ```.upper()```: converts a string to uppercase\n",
    "- ```.lower()```: converts a string to lowercase\n",
    "- ```.capitalize()```: makes the first letter of a string a capital"
   ]
  },
  {
   "cell_type": "code",
   "execution_count": 1,
   "metadata": {},
   "outputs": [],
   "source": [
    "first_name = 'greg'\n",
    "last_name = 'damico'"
   ]
  },
  {
   "cell_type": "markdown",
   "metadata": {},
   "source": [
    "Question: What's the difference between `.capitalize()` and `.title()`?\n",
    "\n",
    "<details>\n",
    "    <summary>\n",
    "    Answer here\n",
    "    </summary>\n",
    "    .capitalize() capitalizes the first letter of a string;<br/>\n",
    "        .title() capitalizes the first letter and each letter after a space\n",
    "    </details>"
   ]
  },
  {
   "cell_type": "markdown",
   "metadata": {},
   "source": [
    "#### f-Strings\n",
    "\n",
    "f-Strings are a convenient way to bring variables into strings."
   ]
  },
  {
   "cell_type": "code",
   "execution_count": 2,
   "metadata": {},
   "outputs": [
    {
     "name": "stdout",
     "output_type": "stream",
     "text": [
      "I love 42. It's the greatest!\n"
     ]
    }
   ],
   "source": [
    "fav_num = 42\n",
    "adj = 'greatest'\n",
    "print(f\"I love {fav_num}. It's the {adj}!\")"
   ]
  },
  {
   "cell_type": "markdown",
   "metadata": {},
   "source": [
    "### List Methods\n",
    "\n",
    "Here are some useful methods for lists:\n",
    "\n",
    "- ```.append()```: adds an element to the end of a list\n",
    "- ```.pop()```: removes an element from the list\n",
    "- ```.extend()```: adds multiple elements to the end of a list\n",
    "- ```.index()```: returns (first) place in list where argument is found\n",
    "- ```.remove()```: removes element by value\n",
    "\n",
    "Question: What's the difference between ```.remove()``` and ```del```?\n",
    "\n",
    "<details>\n",
    "    <summary>\n",
    "        Answer here\n",
    "    </summary>\n",
    "    .remove() removes an element by value;<br/>\n",
    "    del removes an element by position"
   ]
  },
  {
   "cell_type": "code",
   "execution_count": 3,
   "metadata": {},
   "outputs": [],
   "source": [
    "list_1 = [1, 2, 4]\n",
    "\n",
    "list_2 = [8, 16]\n",
    "\n",
    "\n",
    "# Add list_2 to list_1 so that we have one big list\n",
    "\n",
    "\n"
   ]
  },
  {
   "cell_type": "code",
   "execution_count": 4,
   "metadata": {},
   "outputs": [
    {
     "data": {
      "text/plain": [
       "[1, 2, 4, 8, 16]"
      ]
     },
     "execution_count": 4,
     "metadata": {},
     "output_type": "execute_result"
    }
   ],
   "source": [
    "# Note that this alters list_1!\n",
    "\n",
    "list_1.extend(list_2)\n",
    "list_1"
   ]
  },
  {
   "cell_type": "code",
   "execution_count": 5,
   "metadata": {},
   "outputs": [
    {
     "data": {
      "text/plain": [
       "['s',\n",
       " 'u',\n",
       " 'p',\n",
       " 'e',\n",
       " 'r',\n",
       " 'c',\n",
       " 'a',\n",
       " 'l',\n",
       " 'i',\n",
       " 'f',\n",
       " 'r',\n",
       " 'a',\n",
       " 'g',\n",
       " 'i',\n",
       " 'l',\n",
       " 'i',\n",
       " 's',\n",
       " 't',\n",
       " 'i',\n",
       " 'c',\n",
       " 'e',\n",
       " 'x',\n",
       " 'p',\n",
       " 'i',\n",
       " 'a',\n",
       " 'l',\n",
       " 'i',\n",
       " 'd',\n",
       " 'o',\n",
       " 'c',\n",
       " 'i',\n",
       " 'o',\n",
       " 'u',\n",
       " 's']"
      ]
     },
     "execution_count": 5,
     "metadata": {},
     "output_type": "execute_result"
    }
   ],
   "source": [
    "# Let's write a loop that will build a list of the characters of the\n",
    "# string: 'supercalifragilisticexpialidocious'\n",
    "\n",
    "word = 'supercalifragilisticexpialidocious'\n",
    "char_list = []\n",
    "for char in word:\n",
    "    char_list.append(char)\n",
    "\n",
    "char_list"
   ]
  },
  {
   "cell_type": "code",
   "execution_count": 6,
   "metadata": {},
   "outputs": [
    {
     "data": {
      "text/plain": [
       "['s',\n",
       " 'u',\n",
       " 'p',\n",
       " 'e',\n",
       " 'r',\n",
       " 'c',\n",
       " 'a',\n",
       " 'l',\n",
       " 'i',\n",
       " 'f',\n",
       " 'r',\n",
       " 'a',\n",
       " 'g',\n",
       " 'i',\n",
       " 'l',\n",
       " 'i',\n",
       " 's',\n",
       " 't',\n",
       " 'i',\n",
       " 'c',\n",
       " 'e',\n",
       " 'x',\n",
       " 'p',\n",
       " 'i',\n",
       " 'a',\n",
       " 'l',\n",
       " 'i',\n",
       " 'd',\n",
       " 'o',\n",
       " 'c',\n",
       " 'i',\n",
       " 'o',\n",
       " 'u',\n",
       " 's']"
      ]
     },
     "execution_count": 6,
     "metadata": {},
     "output_type": "execute_result"
    }
   ],
   "source": [
    "# What does list(word) do?\n",
    "\n",
    "list(word)"
   ]
  },
  {
   "cell_type": "code",
   "execution_count": 7,
   "metadata": {},
   "outputs": [
    {
     "name": "stdout",
     "output_type": "stream",
     "text": [
      "['shello', 'uhello', 'phello', 'ehello', 'rhello', 'chello', 'ahello', 'lhello', 'ihello', 'fhello', 'rhello', 'ahello', 'ghello', 'ihello', 'lhello', 'ihello', 'shello', 'thello', 'ihello', 'chello', 'ehello', 'xhello', 'phello', 'ihello', 'ahello', 'lhello', 'ihello', 'dhello', 'ohello', 'chello', 'ihello', 'ohello', 'uhello', 'shello']\n"
     ]
    }
   ],
   "source": [
    "print([x + 'hello' for x in word])"
   ]
  },
  {
   "cell_type": "code",
   "execution_count": 8,
   "metadata": {},
   "outputs": [
    {
     "data": {
      "text/plain": [
       "16"
      ]
     },
     "execution_count": 8,
     "metadata": {},
     "output_type": "execute_result"
    }
   ],
   "source": [
    "list_1.pop()\n",
    "\n",
    "# What does this return?\n",
    "# What does list_1 look like now?\n",
    "\n"
   ]
  },
  {
   "cell_type": "markdown",
   "metadata": {},
   "source": [
    "### List Comprehension"
   ]
  },
  {
   "cell_type": "markdown",
   "metadata": {},
   "source": [
    "List comprehension is a handy way of generating a new list from existing lists.\n",
    "\n",
    "Suppose I start with a simple list."
   ]
  },
  {
   "cell_type": "code",
   "execution_count": 9,
   "metadata": {},
   "outputs": [],
   "source": [
    "primes = [2, 3, 5, 7, 11, 13, 17, 19]"
   ]
  },
  {
   "cell_type": "markdown",
   "metadata": {},
   "source": [
    "What I want now to do is to build a new list that comprises doubles of primes. I can do this with list comprehension!"
   ]
  },
  {
   "cell_type": "markdown",
   "metadata": {},
   "source": [
    "The syntax is: ```[ f(x) for x in [original list] ]```"
   ]
  },
  {
   "cell_type": "code",
   "execution_count": 10,
   "metadata": {},
   "outputs": [],
   "source": [
    "prime_doubles = [x*2 for x in primes]\n",
    "prime_triples = [x*3 for x in primes]"
   ]
  },
  {
   "cell_type": "code",
   "execution_count": 11,
   "metadata": {},
   "outputs": [
    {
     "data": {
      "text/plain": [
       "[4, 6, 10, 14, 22, 26, 34, 38]"
      ]
     },
     "execution_count": 11,
     "metadata": {},
     "output_type": "execute_result"
    }
   ],
   "source": [
    "prime_doubles"
   ]
  },
  {
   "cell_type": "markdown",
   "metadata": {},
   "source": [
    "### Dictionary Methods\n",
    "\n",
    "Here are some useful methods for dictionaries:\n",
    "\n",
    "- ```.keys()```: returns an array of the dictionary's keys\n",
    "- ```.values()```: returns an array of the dictionary's values\n",
    "- ```.items()```: returns an array of key-value tuples"
   ]
  },
  {
   "cell_type": "code",
   "execution_count": 12,
   "metadata": {},
   "outputs": [],
   "source": [
    "zoo = {1: 'giraffe', 2: 'elephant', 3: 'monkey'}"
   ]
  },
  {
   "cell_type": "code",
   "execution_count": 13,
   "metadata": {},
   "outputs": [
    {
     "name": "stdout",
     "output_type": "stream",
     "text": [
      "1\n",
      "2\n",
      "3\n"
     ]
    }
   ],
   "source": [
    "# Use the .keys() method to print the keys of this dictionary!\n",
    "\n",
    "# Use the .values() method to print the values of this dictionary!\n",
    "\n",
    "\n",
    "for item in zoo.items():\n",
    "    print(item[0])\n",
    "    \n"
   ]
  },
  {
   "cell_type": "markdown",
   "metadata": {},
   "source": [
    "#### Dictionary Comprehension"
   ]
  },
  {
   "cell_type": "code",
   "execution_count": 14,
   "metadata": {},
   "outputs": [
    {
     "data": {
      "text/plain": [
       "{1: 'giraffe monkeys', 2: 'elephant monkeys', 3: 'monkey monkeys'}"
      ]
     },
     "execution_count": 14,
     "metadata": {},
     "output_type": "execute_result"
    }
   ],
   "source": [
    "{k: v + ' monkeys' for k, v in zoo.items()}"
   ]
  },
  {
   "cell_type": "code",
   "execution_count": 15,
   "metadata": {},
   "outputs": [
    {
     "data": {
      "text/plain": [
       "{0: 1, 4: 9, 16: 25}"
      ]
     },
     "execution_count": 15,
     "metadata": {},
     "output_type": "execute_result"
    }
   ],
   "source": [
    "{k**2: v**2 for k, v in [(0, 1), (2, 3), (4, 5)]}"
   ]
  },
  {
   "cell_type": "markdown",
   "metadata": {},
   "source": [
    "## Zipping"
   ]
  },
  {
   "cell_type": "markdown",
   "metadata": {},
   "source": [
    "Zipping is a way of merging two arrays into one. The result can be cast as a list or as a dict."
   ]
  },
  {
   "cell_type": "code",
   "execution_count": 16,
   "metadata": {},
   "outputs": [
    {
     "data": {
      "text/plain": [
       "<zip at 0x103315c88>"
      ]
     },
     "execution_count": 16,
     "metadata": {},
     "output_type": "execute_result"
    }
   ],
   "source": [
    "zip(primes, prime_doubles)"
   ]
  },
  {
   "cell_type": "code",
   "execution_count": 17,
   "metadata": {},
   "outputs": [
    {
     "data": {
      "text/plain": [
       "{2: 4, 3: 6, 5: 10, 7: 14, 11: 22, 13: 26, 17: 34, 19: 38}"
      ]
     },
     "execution_count": 17,
     "metadata": {},
     "output_type": "execute_result"
    }
   ],
   "source": [
    "dict(zip(primes, prime_doubles))"
   ]
  },
  {
   "cell_type": "markdown",
   "metadata": {},
   "source": [
    "## Built-In Functions\n",
    "\n",
    "Many useful functions are already built into Python:\n",
    "\n",
    "- ```print()```: print the given string or variable's value\n",
    "- ```type()```: returns the datatype of the argument\n",
    "- ```len()```: returns the length of an array\n",
    "- ```sum()```: returns the sum of the array's values\n",
    "- ```min()```: returns the smallest member of an array\n",
    "- ```max()```: returns the largest member of an array"
   ]
  },
  {
   "cell_type": "code",
   "execution_count": 18,
   "metadata": {},
   "outputs": [
    {
     "data": {
      "text/plain": [
       "9"
      ]
     },
     "execution_count": 18,
     "metadata": {},
     "output_type": "execute_result"
    }
   ],
   "source": [
    "# What will this return?\n",
    "\n",
    "max(6, 9, 7)"
   ]
  },
  {
   "cell_type": "markdown",
   "metadata": {},
   "source": [
    "## While Loops\n",
    "\n",
    "We have already seen 'for'-loops, where you use a loop and count the iterations by the some pre-specified number. But sometimes we don't know how many times we'll need to iterate!\n",
    "\n",
    "Suppose I want to build a program that will take in a whole number and then tell me how many times 2 divides that number evenly. So e.g. 2 divides 4 twice but 10 only once (and 1536 nine times).\n",
    "\n",
    "A good first start is to take the input number and start dividing by 2. But when do I stop? Answer: When I reach an odd number!"
   ]
  },
  {
   "cell_type": "code",
   "execution_count": null,
   "metadata": {},
   "outputs": [],
   "source": [
    "# Let's code it!\n",
    "\n",
    "\n",
    "\n"
   ]
  },
  {
   "cell_type": "markdown",
   "metadata": {},
   "source": [
    "## Nested Loops and List Comprehensions\n",
    "\n",
    "We can put loops inside of other loops and list comprehensions inside of other list comprehensions. These come in handy especially when we have arrays inside of other arrays."
   ]
  },
  {
   "cell_type": "code",
   "execution_count": null,
   "metadata": {},
   "outputs": [],
   "source": [
    "phone_nos = [{'greg': {'home': 1234567, 'work': 7654321}},\n",
    "          {'brian': {'home': 9876543, 'work': 1010001}},\n",
    "            {'cristian': {'home': 1111111, 'work': 2222222}},\n",
    "            {'erin': {'home': 3333333, 'work': 4444444}}]"
   ]
  },
  {
   "cell_type": "code",
   "execution_count": null,
   "metadata": {},
   "outputs": [],
   "source": [
    "# Exercise: from the above list, make a list of names with corresponding home phone numbers.\n",
    "\n",
    "\n"
   ]
  },
  {
   "cell_type": "markdown",
   "metadata": {},
   "source": [
    "## Functions\n",
    "\n",
    "This aspect of Python is _incredibly_ useful! Writing your own functions can save you a TON of work - by _automating_ it.\n",
    "\n",
    "### Creating Functions\n",
    "\n",
    "The first line will read:\n",
    "\n",
    "'def' + _your function's name_ + '( )' + ':'\n",
    "\n",
    "Any arguments to the function will go in the parentheses.\n",
    "\n",
    "Let's try building a function that will automate our task of finding all the factors of 2 of a given number!"
   ]
  },
  {
   "cell_type": "code",
   "execution_count": null,
   "metadata": {},
   "outputs": [],
   "source": [
    "# Let's code it!\n",
    "\n",
    "\n",
    "\n"
   ]
  },
  {
   "cell_type": "markdown",
   "metadata": {},
   "source": [
    "### Calling Functions\n",
    "\n",
    "To _call_ a function, simply type its name, along with any necessary arguments in parentheses."
   ]
  },
  {
   "cell_type": "code",
   "execution_count": null,
   "metadata": {},
   "outputs": [],
   "source": [
    "# Let's call it!\n"
   ]
  },
  {
   "cell_type": "markdown",
   "metadata": {},
   "source": [
    "### Default Argument Values\n",
    "\n",
    "Sometimes we'll want the argument(s) of our function to have default values."
   ]
  },
  {
   "cell_type": "code",
   "execution_count": 19,
   "metadata": {},
   "outputs": [],
   "source": [
    "def cheers(person='aaron', job='data scientist', age=30):\n",
    "    return f'Hooray for {person}. You\\'re a {job} and you\\'re {str(age)}!'"
   ]
  },
  {
   "cell_type": "code",
   "execution_count": 20,
   "metadata": {},
   "outputs": [
    {
     "data": {
      "text/plain": [
       "\"Hooray for greg. You're a scientist and you're 80!\""
      ]
     },
     "execution_count": 20,
     "metadata": {},
     "output_type": "execute_result"
    }
   ],
   "source": [
    "cheers('greg', 'scientist', 80)"
   ]
  },
  {
   "cell_type": "code",
   "execution_count": 21,
   "metadata": {},
   "outputs": [
    {
     "data": {
      "text/plain": [
       "\"Hooray for cristian. You're a git enthusiast and you're 93!\""
      ]
     },
     "execution_count": 21,
     "metadata": {},
     "output_type": "execute_result"
    }
   ],
   "source": [
    "cheers('cristian', 'git enthusiast', 93)"
   ]
  },
  {
   "cell_type": "code",
   "execution_count": 22,
   "metadata": {},
   "outputs": [
    {
     "data": {
      "text/plain": [
       "\"Hooray for aaron. You're a data scientist and you're 30!\""
      ]
     },
     "execution_count": 22,
     "metadata": {},
     "output_type": "execute_result"
    }
   ],
   "source": [
    "cheers()"
   ]
  },
  {
   "cell_type": "markdown",
   "metadata": {},
   "source": [
    "## Exercises:\n",
    "\n",
    "1. Build a function that will take an input string and add '-totally' to the end of it."
   ]
  },
  {
   "cell_type": "code",
   "execution_count": null,
   "metadata": {},
   "outputs": [],
   "source": []
  },
  {
   "cell_type": "markdown",
   "metadata": {},
   "source": [
    "2. Build a function that will take in three numbers and return twice the smallest of the three."
   ]
  },
  {
   "cell_type": "code",
   "execution_count": null,
   "metadata": {},
   "outputs": [],
   "source": []
  },
  {
   "cell_type": "markdown",
   "metadata": {},
   "source": [
    "3. Build a function that will create a list, of user-specified length, of empty dictionaries."
   ]
  },
  {
   "cell_type": "code",
   "execution_count": null,
   "metadata": {},
   "outputs": [],
   "source": []
  },
  {
   "cell_type": "markdown",
   "metadata": {},
   "source": [
    "4. Build a function that will return the middle value (for odd-length) or middle two values (for even-length) of a string."
   ]
  },
  {
   "cell_type": "code",
   "execution_count": null,
   "metadata": {},
   "outputs": [],
   "source": []
  },
  {
   "cell_type": "markdown",
   "metadata": {},
   "source": [
    "5. Build a function that will take in a list of lists of integers - default: \\[[1, 2], [34, 27], [45, 13]\\] - and return a list of the integers that are divisible by 3."
   ]
  },
  {
   "cell_type": "code",
   "execution_count": null,
   "metadata": {},
   "outputs": [],
   "source": []
  },
  {
   "cell_type": "markdown",
   "metadata": {},
   "source": [
    "6. \\*Build a function that will take in a list of lists of integers - default: \\[[1, 2], [34, 27], [45, 13]\\] - and return a dictionary whose keys are integers starting at 1 and counting up and whose values are the integers that are divisible by 3."
   ]
  },
  {
   "cell_type": "code",
   "execution_count": null,
   "metadata": {},
   "outputs": [],
   "source": []
  }
 ],
 "metadata": {
  "kernelspec": {
   "display_name": "Python 3",
   "language": "python",
   "name": "python3"
  },
  "language_info": {
   "codemirror_mode": {
    "name": "ipython",
    "version": 3
   },
   "file_extension": ".py",
   "mimetype": "text/x-python",
   "name": "python",
   "nbconvert_exporter": "python",
   "pygments_lexer": "ipython3",
   "version": "3.7.3"
  }
 },
 "nbformat": 4,
 "nbformat_minor": 4
}
